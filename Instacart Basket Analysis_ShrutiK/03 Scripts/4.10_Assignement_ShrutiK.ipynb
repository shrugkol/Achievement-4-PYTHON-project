{
 "cells": [
  {
   "cell_type": "markdown",
   "metadata": {},
   "source": [
    "# Instacart Basket Data Analysis"
   ]
  },
  {
   "cell_type": "markdown",
   "metadata": {},
   "source": [
    "This script contains the following points:\n",
    "\n",
    "#### 1. Personally Identifiable Information (PII) data \n",
    "#### 2. Geographic segmentation\n",
    "#### 3. Low-activity customer\n",
    "#### 4. Customer profilling\n",
    "#### 5. Distribution of customer profile\n",
    "#### 6. Statistics on customer-profile level for order frequency and expenditures\n",
    "#### 7. Customer analysis by region\n",
    "#### 8. Visualizations"
   ]
  },
  {
   "cell_type": "code",
   "execution_count": 3,
   "metadata": {},
   "outputs": [],
   "source": [
    "# Import libraries\n",
    "import pandas as pd\n",
    "import numpy as np\n",
    "import os\n",
    "import matplotlib.pyplot as plt\n",
    "import seaborn as sns\n",
    "import scipy"
   ]
  },
  {
   "cell_type": "code",
   "execution_count": 4,
   "metadata": {},
   "outputs": [],
   "source": [
    "path= r'C:\\Users\\Shruti Kolhatkar\\Documents\\Instacart Basket Analysis_ShrutiK'"
   ]
  },
  {
   "cell_type": "code",
   "execution_count": 5,
   "metadata": {},
   "outputs": [],
   "source": [
    "# Import dataset\n",
    "df_all = pd.read_pickle(os.path.join(path,'02 Data','Prepared Data','orders_products_combined_2.pkl'))"
   ]
  },
  {
   "cell_type": "code",
   "execution_count": 47,
   "metadata": {},
   "outputs": [
    {
     "data": {
      "text/plain": [
       "Index(['product_id', 'product_name', 'aisle_id', 'department_id', 'prices',\n",
       "       'order_id', 'user_id', 'order_number', 'orders_day_of_week',\n",
       "       'order_hour_of_day', 'days_since_prior_order', 'first_order',\n",
       "       'add_to_cart_order', 'reordered', '_merge', 'price_range_loc',\n",
       "       'busiest_day', 'busiest_days', 'busiest_period_of_day', 'max_order',\n",
       "       'loyalty_flag', 'mean_product_price', 'spending_flag',\n",
       "       'median_days_between_orders', 'order_frequency', 'first_name',\n",
       "       'surname', 'Gender', 'State', 'Age', 'date_joined', 'dependants',\n",
       "       'family_status', 'income', 'exists', 'region', 'customer_activity',\n",
       "       'customer_profile'],\n",
       "      dtype='object')"
      ]
     },
     "execution_count": 47,
     "metadata": {},
     "output_type": "execute_result"
    }
   ],
   "source": [
    "df_all.columns"
   ]
  },
  {
   "cell_type": "code",
   "execution_count": 48,
   "metadata": {},
   "outputs": [],
   "source": [
    "# Import product department index\n",
    "department_index = pd.read_csv(os.path.join(path,'02 Data','Prepared Data','departments_wrangled.csv'), index_col = False)"
   ]
  },
  {
   "cell_type": "markdown",
   "metadata": {},
   "source": [
    "## 1. The Personally Identifiable Information (PII) data "
   ]
  },
  {
   "cell_type": "markdown",
   "metadata": {},
   "source": [
    "The dataset includes personally identifiable information (PII) such as user_id, gender, age, number of dependants, family status, and income. It's important to note that these data have been artificially generated for the purpose of training in this course, and do not represent real individuals.\n",
    "\n",
    "The original customer data, which contained first names and last name, has been appropriately redacted from the dataset to ensure privacy and compliance with data protection regulations."
   ]
  },
  {
   "cell_type": "markdown",
   "metadata": {},
   "source": [
    "## 2. Geographic segmentation"
   ]
  },
  {
   "cell_type": "markdown",
   "metadata": {},
   "source": [
    "### 2.1 Define regions"
   ]
  },
  {
   "cell_type": "markdown",
   "metadata": {},
   "source": [
    "###### West"
   ]
  },
  {
   "cell_type": "code",
   "execution_count": 49,
   "metadata": {},
   "outputs": [],
   "source": [
    "# Define West states\n",
    "west_states = ['Idaho','Montana','Wyoming','Nevada','Utah','Colorado','Arizona','New Mexico','Alaska','Washington','Oregon','California','Hawaii']"
   ]
  },
  {
   "cell_type": "code",
   "execution_count": 50,
   "metadata": {},
   "outputs": [],
   "source": [
    "df_all.loc[df_all['State'].isin(west_states), 'region'] = 'West' # Assign region"
   ]
  },
  {
   "cell_type": "markdown",
   "metadata": {},
   "source": [
    "###### Midwest"
   ]
  },
  {
   "cell_type": "code",
   "execution_count": 51,
   "metadata": {},
   "outputs": [],
   "source": [
    "# Define Midwest states\n",
    "mid_west_states = ['Wisconsin', 'Michigan', 'Illinois', 'Indiana', 'Ohio', 'North Dakota', 'South Dakota', 'Nebraska', 'Kansas', 'Minnesota', 'Iowa', 'Missouri']"
   ]
  },
  {
   "cell_type": "code",
   "execution_count": 52,
   "metadata": {},
   "outputs": [],
   "source": [
    "df_all.loc[df_all['State'].isin(mid_west_states), 'region'] = 'Midwest' # Assign region"
   ]
  },
  {
   "cell_type": "markdown",
   "metadata": {},
   "source": [
    "###### South"
   ]
  },
  {
   "cell_type": "code",
   "execution_count": 53,
   "metadata": {},
   "outputs": [],
   "source": [
    "# Define South states\n",
    "west_states = ['Delaware','Maryland','District of Columbia','Virginia','West Virginia','North Carolina','South Carolina','Georgia','Florida','Kentucky','Tennessee','Mississippi','Alabama','Oklahoma','Texas','Arkansas','Louisiana']"
   ]
  },
  {
   "cell_type": "code",
   "execution_count": 54,
   "metadata": {},
   "outputs": [],
   "source": [
    "df_all.loc[df_all['State'].isin(west_states), 'region'] = 'South' # Assign region"
   ]
  },
  {
   "cell_type": "markdown",
   "metadata": {},
   "source": [
    "###### Northeast"
   ]
  },
  {
   "cell_type": "code",
   "execution_count": 55,
   "metadata": {},
   "outputs": [],
   "source": [
    "# Define Northeast states\n",
    "northeast_states = ['Maine','New Hampshire','Vermont','Massachusetts','Rhode Island','Connecticut','New York','Pennsylvania','New Jersey']"
   ]
  },
  {
   "cell_type": "code",
   "execution_count": 56,
   "metadata": {},
   "outputs": [],
   "source": [
    "df_all.loc[df_all['State'].isin(northeast_states), 'region'] = 'Northeast' # Assign region"
   ]
  },
  {
   "cell_type": "code",
   "execution_count": 57,
   "metadata": {},
   "outputs": [
    {
     "data": {
      "text/plain": [
       "South        10791885\n",
       "West          8292913\n",
       "Midwest       7597325\n",
       "Northeast     5722736\n",
       "Name: region, dtype: int64"
      ]
     },
     "execution_count": 57,
     "metadata": {},
     "output_type": "execute_result"
    }
   ],
   "source": [
    "# User count by region\n",
    "df_all['region'].value_counts(dropna = False)"
   ]
  },
  {
   "cell_type": "markdown",
   "metadata": {},
   "source": [
    "### 2.2 Spending habbits by region"
   ]
  },
  {
   "cell_type": "code",
   "execution_count": 58,
   "metadata": {},
   "outputs": [],
   "source": [
    "# Pivot spending_flag base on region\n",
    "spend_by_region = pd.crosstab(df_all['region'], df_all['spending_flag'], dropna = False).sort_values(by = 'High spender', ascending = False)"
   ]
  },
  {
   "cell_type": "code",
   "execution_count": 59,
   "metadata": {},
   "outputs": [
    {
     "data": {
      "text/html": [
       "<div>\n",
       "<style scoped>\n",
       "    .dataframe tbody tr th:only-of-type {\n",
       "        vertical-align: middle;\n",
       "    }\n",
       "\n",
       "    .dataframe tbody tr th {\n",
       "        vertical-align: top;\n",
       "    }\n",
       "\n",
       "    .dataframe thead th {\n",
       "        text-align: right;\n",
       "    }\n",
       "</style>\n",
       "<table border=\"1\" class=\"dataframe\">\n",
       "  <thead>\n",
       "    <tr style=\"text-align: right;\">\n",
       "      <th>spending_flag</th>\n",
       "      <th>High spender</th>\n",
       "      <th>Low spender</th>\n",
       "    </tr>\n",
       "    <tr>\n",
       "      <th>region</th>\n",
       "      <th></th>\n",
       "      <th></th>\n",
       "    </tr>\n",
       "  </thead>\n",
       "  <tbody>\n",
       "    <tr>\n",
       "      <th>South</th>\n",
       "      <td>209610</td>\n",
       "      <td>10582275</td>\n",
       "    </tr>\n",
       "    <tr>\n",
       "      <th>West</th>\n",
       "      <td>160328</td>\n",
       "      <td>8132585</td>\n",
       "    </tr>\n",
       "    <tr>\n",
       "      <th>Midwest</th>\n",
       "      <td>155975</td>\n",
       "      <td>7441350</td>\n",
       "    </tr>\n",
       "    <tr>\n",
       "      <th>Northeast</th>\n",
       "      <td>108200</td>\n",
       "      <td>5614536</td>\n",
       "    </tr>\n",
       "  </tbody>\n",
       "</table>\n",
       "</div>"
      ],
      "text/plain": [
       "spending_flag  High spender  Low spender\n",
       "region                                  \n",
       "South                209610     10582275\n",
       "West                 160328      8132585\n",
       "Midwest              155975      7441350\n",
       "Northeast            108200      5614536"
      ]
     },
     "execution_count": 59,
     "metadata": {},
     "output_type": "execute_result"
    }
   ],
   "source": [
    "spend_by_region # Spending by region"
   ]
  },
  {
   "cell_type": "code",
   "execution_count": 60,
   "metadata": {},
   "outputs": [],
   "source": [
    "# Pivot product price range base on region\n",
    "price_region = pd.crosstab(df_all['region'], df_all['price_range_loc'], dropna = False).sort_values(by = 'High-range product', ascending = False)"
   ]
  },
  {
   "cell_type": "code",
   "execution_count": 61,
   "metadata": {},
   "outputs": [
    {
     "data": {
      "text/html": [
       "<div>\n",
       "<style scoped>\n",
       "    .dataframe tbody tr th:only-of-type {\n",
       "        vertical-align: middle;\n",
       "    }\n",
       "\n",
       "    .dataframe tbody tr th {\n",
       "        vertical-align: top;\n",
       "    }\n",
       "\n",
       "    .dataframe thead th {\n",
       "        text-align: right;\n",
       "    }\n",
       "</style>\n",
       "<table border=\"1\" class=\"dataframe\">\n",
       "  <thead>\n",
       "    <tr style=\"text-align: right;\">\n",
       "      <th>price_range_loc</th>\n",
       "      <th>High-range product</th>\n",
       "      <th>Low-range product</th>\n",
       "      <th>Mid-range product</th>\n",
       "    </tr>\n",
       "    <tr>\n",
       "      <th>region</th>\n",
       "      <th></th>\n",
       "      <th></th>\n",
       "      <th></th>\n",
       "    </tr>\n",
       "  </thead>\n",
       "  <tbody>\n",
       "    <tr>\n",
       "      <th>South</th>\n",
       "      <td>139390</td>\n",
       "      <td>3368338</td>\n",
       "      <td>7284157</td>\n",
       "    </tr>\n",
       "    <tr>\n",
       "      <th>West</th>\n",
       "      <td>107168</td>\n",
       "      <td>2592736</td>\n",
       "      <td>5593009</td>\n",
       "    </tr>\n",
       "    <tr>\n",
       "      <th>Midwest</th>\n",
       "      <td>97918</td>\n",
       "      <td>2372304</td>\n",
       "      <td>5127103</td>\n",
       "    </tr>\n",
       "    <tr>\n",
       "      <th>Northeast</th>\n",
       "      <td>73202</td>\n",
       "      <td>1792943</td>\n",
       "      <td>3856591</td>\n",
       "    </tr>\n",
       "  </tbody>\n",
       "</table>\n",
       "</div>"
      ],
      "text/plain": [
       "price_range_loc  High-range product  Low-range product  Mid-range product\n",
       "region                                                                   \n",
       "South                        139390            3368338            7284157\n",
       "West                         107168            2592736            5593009\n",
       "Midwest                       97918            2372304            5127103\n",
       "Northeast                     73202            1792943            3856591"
      ]
     },
     "execution_count": 61,
     "metadata": {},
     "output_type": "execute_result"
    }
   ],
   "source": [
    "price_region # Price rang product preferance by region"
   ]
  },
  {
   "cell_type": "markdown",
   "metadata": {},
   "source": [
    "## 3. Low-activity customers"
   ]
  },
  {
   "cell_type": "code",
   "execution_count": 62,
   "metadata": {},
   "outputs": [],
   "source": [
    "# Define low_activity customers\n",
    "df_all.loc[df_all['order_number'] < 5, 'customer_activity'] = 'low_activity customers'\n",
    "\n",
    "# Define high_activity customers\n",
    "df_all.loc[df_all['order_number'] >= 5, 'customer_activity'] = 'high_activity customer'"
   ]
  },
  {
   "cell_type": "code",
   "execution_count": 63,
   "metadata": {},
   "outputs": [
    {
     "data": {
      "text/plain": [
       "high_activity customer    24414877\n",
       "low_activity customers     7989982\n",
       "Name: customer_activity, dtype: int64"
      ]
     },
     "execution_count": 63,
     "metadata": {},
     "output_type": "execute_result"
    }
   ],
   "source": [
    "# User count base on activity level\n",
    "df_all['customer_activity'].value_counts(dropna= False)"
   ]
  },
  {
   "cell_type": "markdown",
   "metadata": {},
   "source": [
    "## 4. Customer profilling"
   ]
  },
  {
   "cell_type": "markdown",
   "metadata": {},
   "source": [
    "### 4.1 Define age, income groups"
   ]
  },
  {
   "cell_type": "code",
   "execution_count": 64,
   "metadata": {},
   "outputs": [],
   "source": [
    "# Define low-income young adult group\n",
    "df_all.loc[(df_all['Age'] >= 18) & (df_all['Age'] <= 40) \n",
    "         & (df_all['income'] >= 25903) & (df_all['income'] <= 67124),\n",
    "      \n",
    "         'customer_profile'] = 'low-income yound adult'"
   ]
  },
  {
   "cell_type": "code",
   "execution_count": 65,
   "metadata": {},
   "outputs": [],
   "source": [
    "# Define low-income mid age group\n",
    "df_all.loc[(df_all['Age'] > 40) & (df_all['Age'] <= 60) \n",
    "         & (df_all['income'] >= 25903) & (df_all['income'] <= 67124),\n",
    "      \n",
    "         'customer_profile'] = 'low-income mid age'"
   ]
  },
  {
   "cell_type": "code",
   "execution_count": 66,
   "metadata": {},
   "outputs": [],
   "source": [
    "# Define low-income senior group\n",
    "df_all.loc[(df_all['Age'] > 60) &  (df_all['Age'] <= 81  )\n",
    "         & (df_all['income'] >= 25903) & (df_all['income'] <= 67124),\n",
    "      \n",
    "         'customer_profile'] = 'low-income senior'"
   ]
  },
  {
   "cell_type": "code",
   "execution_count": 67,
   "metadata": {},
   "outputs": [],
   "source": [
    "# Define lower-middle-class young adult group\n",
    "df_all.loc[(df_all['Age'] >= 18) & (df_all['Age'] <= 40) \n",
    "         & (df_all['income'] > 67124) & (df_all['income'] <= 96663),\n",
    "      \n",
    "         'customer_profile'] = 'lower-middle-class yound adult'"
   ]
  },
  {
   "cell_type": "code",
   "execution_count": 68,
   "metadata": {},
   "outputs": [],
   "source": [
    "# Define loer-middle-class mid age group\n",
    "df_all.loc[(df_all['Age'] > 40) & (df_all['Age'] <= 60) \n",
    "         & (df_all['income'] > 67124 ) & (df_all['income'] <= 96663 ),\n",
    "      \n",
    "         'customer_profile'] = 'lower-middle-class mid age'"
   ]
  },
  {
   "cell_type": "code",
   "execution_count": 69,
   "metadata": {},
   "outputs": [],
   "source": [
    "# Define lower-middle-class seniot group\n",
    "df_all.loc[(df_all['Age'] > 60) &  (df_all['Age'] <= 81  )\n",
    "         & (df_all['income'] > 67124 ) & (df_all['income'] <= 96663 ),\n",
    "      \n",
    "         'customer_profile'] = 'lower-middle-class senior'"
   ]
  },
  {
   "cell_type": "code",
   "execution_count": 70,
   "metadata": {},
   "outputs": [],
   "source": [
    "# Define upper-middle-class yound adult group\n",
    "df_all.loc[(df_all['Age'] >= 18) & (df_all['Age'] <= 40) \n",
    "         & (df_all['income'] > 96663 ) & (df_all['income'] <= 127961 ),\n",
    "      \n",
    "         'customer_profile'] = 'upper-middle-class yound adult'"
   ]
  },
  {
   "cell_type": "code",
   "execution_count": 71,
   "metadata": {},
   "outputs": [],
   "source": [
    "# Define upper-middle-class mid age group\n",
    "df_all.loc[(df_all['Age'] > 40) & (df_all['Age'] <= 60) \n",
    "         & (df_all['income'] > 96663 ) & (df_all['income'] <= 127961 ),\n",
    "      \n",
    "         'customer_profile'] = 'upper-middle-class mid age'"
   ]
  },
  {
   "cell_type": "code",
   "execution_count": 72,
   "metadata": {},
   "outputs": [],
   "source": [
    "# Define upper-middle-class senior group\n",
    "df_all.loc[(df_all['Age'] > 60) &  (df_all['Age'] <= 81  )\n",
    "         & (df_all['income'] > 96663 ) & (df_all['income'] <= 127961 ),\n",
    "      \n",
    "         'customer_profile'] = 'upper-middle-class senior'"
   ]
  },
  {
   "cell_type": "code",
   "execution_count": 73,
   "metadata": {},
   "outputs": [],
   "source": [
    "# Define upper-class young adult group\n",
    "df_all.loc[(df_all['Age'] >= 18) & (df_all['Age'] <= 40) \n",
    "         & (df_all['income'] > 127961 ) & (df_all['income'] <= 593901 ),\n",
    "      \n",
    "         'customer_profile'] = 'upper-class young adult'"
   ]
  },
  {
   "cell_type": "code",
   "execution_count": 74,
   "metadata": {},
   "outputs": [],
   "source": [
    "# Define upper-class mid age group\n",
    "df_all.loc[(df_all['Age'] > 40) & (df_all['Age'] <= 60) \n",
    "         & (df_all['income'] > 127961 ) & (df_all['income'] <= 593901 ),\n",
    "      \n",
    "         'customer_profile'] = 'upper-class mid age'"
   ]
  },
  {
   "cell_type": "code",
   "execution_count": 75,
   "metadata": {},
   "outputs": [],
   "source": [
    "# Define upper-class senior group\n",
    "df_all.loc[(df_all['Age'] > 60) &  (df_all['Age'] <= 81  )\n",
    "         & (df_all['income'] > 127961 ) & (df_all['income'] <= 593901 ),\n",
    "      \n",
    "         'customer_profile'] = 'upper-class senior'"
   ]
  },
  {
   "cell_type": "markdown",
   "metadata": {},
   "source": [
    "### 4.2 Family status and dependant's number with profile"
   ]
  },
  {
   "cell_type": "code",
   "execution_count": 76,
   "metadata": {},
   "outputs": [
    {
     "data": {
      "text/html": [
       "<div>\n",
       "<style scoped>\n",
       "    .dataframe tbody tr th:only-of-type {\n",
       "        vertical-align: middle;\n",
       "    }\n",
       "\n",
       "    .dataframe tbody tr th {\n",
       "        vertical-align: top;\n",
       "    }\n",
       "\n",
       "    .dataframe thead th {\n",
       "        text-align: right;\n",
       "    }\n",
       "</style>\n",
       "<table border=\"1\" class=\"dataframe\">\n",
       "  <thead>\n",
       "    <tr style=\"text-align: right;\">\n",
       "      <th>family_status</th>\n",
       "      <th>divorced/widowed</th>\n",
       "      <th>living with parents and siblings</th>\n",
       "      <th>married</th>\n",
       "      <th>single</th>\n",
       "    </tr>\n",
       "    <tr>\n",
       "      <th>customer_profile</th>\n",
       "      <th></th>\n",
       "      <th></th>\n",
       "      <th></th>\n",
       "      <th></th>\n",
       "    </tr>\n",
       "  </thead>\n",
       "  <tbody>\n",
       "    <tr>\n",
       "      <th>low-income mid age</th>\n",
       "      <td>14349</td>\n",
       "      <td>0</td>\n",
       "      <td>1020256</td>\n",
       "      <td>321321</td>\n",
       "    </tr>\n",
       "    <tr>\n",
       "      <th>low-income senior</th>\n",
       "      <td>339389</td>\n",
       "      <td>0</td>\n",
       "      <td>1041818</td>\n",
       "      <td>0</td>\n",
       "    </tr>\n",
       "    <tr>\n",
       "      <th>low-income yound adult</th>\n",
       "      <td>0</td>\n",
       "      <td>696494</td>\n",
       "      <td>3345273</td>\n",
       "      <td>1356122</td>\n",
       "    </tr>\n",
       "    <tr>\n",
       "      <th>lower-middle-class mid age</th>\n",
       "      <td>14297</td>\n",
       "      <td>0</td>\n",
       "      <td>985543</td>\n",
       "      <td>305749</td>\n",
       "    </tr>\n",
       "    <tr>\n",
       "      <th>lower-middle-class senior</th>\n",
       "      <td>360408</td>\n",
       "      <td>0</td>\n",
       "      <td>1060122</td>\n",
       "      <td>0</td>\n",
       "    </tr>\n",
       "    <tr>\n",
       "      <th>lower-middle-class yound adult</th>\n",
       "      <td>0</td>\n",
       "      <td>734902</td>\n",
       "      <td>3303209</td>\n",
       "      <td>1321822</td>\n",
       "    </tr>\n",
       "    <tr>\n",
       "      <th>upper-class mid age</th>\n",
       "      <td>46190</td>\n",
       "      <td>0</td>\n",
       "      <td>2908235</td>\n",
       "      <td>943269</td>\n",
       "    </tr>\n",
       "    <tr>\n",
       "      <th>upper-class senior</th>\n",
       "      <td>1011226</td>\n",
       "      <td>0</td>\n",
       "      <td>3048553</td>\n",
       "      <td>0</td>\n",
       "    </tr>\n",
       "    <tr>\n",
       "      <th>upper-class young adult</th>\n",
       "      <td>0</td>\n",
       "      <td>17948</td>\n",
       "      <td>85311</td>\n",
       "      <td>30121</td>\n",
       "    </tr>\n",
       "    <tr>\n",
       "      <th>upper-middle-class mid age</th>\n",
       "      <td>42385</td>\n",
       "      <td>0</td>\n",
       "      <td>2701635</td>\n",
       "      <td>848745</td>\n",
       "    </tr>\n",
       "    <tr>\n",
       "      <th>upper-middle-class senior</th>\n",
       "      <td>943568</td>\n",
       "      <td>0</td>\n",
       "      <td>2777755</td>\n",
       "      <td>0</td>\n",
       "    </tr>\n",
       "    <tr>\n",
       "      <th>upper-middle-class yound adult</th>\n",
       "      <td>0</td>\n",
       "      <td>101259</td>\n",
       "      <td>479043</td>\n",
       "      <td>198542</td>\n",
       "    </tr>\n",
       "  </tbody>\n",
       "</table>\n",
       "</div>"
      ],
      "text/plain": [
       "family_status                   divorced/widowed  \\\n",
       "customer_profile                                   \n",
       "low-income mid age                         14349   \n",
       "low-income senior                         339389   \n",
       "low-income yound adult                         0   \n",
       "lower-middle-class mid age                 14297   \n",
       "lower-middle-class senior                 360408   \n",
       "lower-middle-class yound adult                 0   \n",
       "upper-class mid age                        46190   \n",
       "upper-class senior                       1011226   \n",
       "upper-class young adult                        0   \n",
       "upper-middle-class mid age                 42385   \n",
       "upper-middle-class senior                 943568   \n",
       "upper-middle-class yound adult                 0   \n",
       "\n",
       "family_status                   living with parents and siblings  married  \\\n",
       "customer_profile                                                            \n",
       "low-income mid age                                             0  1020256   \n",
       "low-income senior                                              0  1041818   \n",
       "low-income yound adult                                    696494  3345273   \n",
       "lower-middle-class mid age                                     0   985543   \n",
       "lower-middle-class senior                                      0  1060122   \n",
       "lower-middle-class yound adult                            734902  3303209   \n",
       "upper-class mid age                                            0  2908235   \n",
       "upper-class senior                                             0  3048553   \n",
       "upper-class young adult                                    17948    85311   \n",
       "upper-middle-class mid age                                     0  2701635   \n",
       "upper-middle-class senior                                      0  2777755   \n",
       "upper-middle-class yound adult                            101259   479043   \n",
       "\n",
       "family_status                    single  \n",
       "customer_profile                         \n",
       "low-income mid age               321321  \n",
       "low-income senior                     0  \n",
       "low-income yound adult          1356122  \n",
       "lower-middle-class mid age       305749  \n",
       "lower-middle-class senior             0  \n",
       "lower-middle-class yound adult  1321822  \n",
       "upper-class mid age              943269  \n",
       "upper-class senior                    0  \n",
       "upper-class young adult           30121  \n",
       "upper-middle-class mid age       848745  \n",
       "upper-middle-class senior             0  \n",
       "upper-middle-class yound adult   198542  "
      ]
     },
     "execution_count": 76,
     "metadata": {},
     "output_type": "execute_result"
    }
   ],
   "source": [
    "# Familiy status count by customer profile\n",
    "pro_fam = pd.crosstab(df_all['customer_profile'], df_all['family_status'], dropna = False)\n",
    "pro_fam"
   ]
  },
  {
   "cell_type": "code",
   "execution_count": 77,
   "metadata": {},
   "outputs": [
    {
     "data": {
      "text/html": [
       "<div>\n",
       "<style scoped>\n",
       "    .dataframe tbody tr th:only-of-type {\n",
       "        vertical-align: middle;\n",
       "    }\n",
       "\n",
       "    .dataframe tbody tr th {\n",
       "        vertical-align: top;\n",
       "    }\n",
       "\n",
       "    .dataframe thead th {\n",
       "        text-align: right;\n",
       "    }\n",
       "</style>\n",
       "<table border=\"1\" class=\"dataframe\">\n",
       "  <thead>\n",
       "    <tr style=\"text-align: right;\">\n",
       "      <th>dependants</th>\n",
       "      <th>0</th>\n",
       "      <th>1</th>\n",
       "      <th>2</th>\n",
       "      <th>3</th>\n",
       "    </tr>\n",
       "    <tr>\n",
       "      <th>customer_profile</th>\n",
       "      <th></th>\n",
       "      <th></th>\n",
       "      <th></th>\n",
       "      <th></th>\n",
       "    </tr>\n",
       "  </thead>\n",
       "  <tbody>\n",
       "    <tr>\n",
       "      <th>low-income mid age</th>\n",
       "      <td>335670</td>\n",
       "      <td>341242</td>\n",
       "      <td>327394</td>\n",
       "      <td>351620</td>\n",
       "    </tr>\n",
       "    <tr>\n",
       "      <th>low-income senior</th>\n",
       "      <td>339389</td>\n",
       "      <td>349379</td>\n",
       "      <td>350832</td>\n",
       "      <td>341607</td>\n",
       "    </tr>\n",
       "    <tr>\n",
       "      <th>low-income yound adult</th>\n",
       "      <td>1356122</td>\n",
       "      <td>1338227</td>\n",
       "      <td>1351706</td>\n",
       "      <td>1351834</td>\n",
       "    </tr>\n",
       "    <tr>\n",
       "      <th>lower-middle-class mid age</th>\n",
       "      <td>320046</td>\n",
       "      <td>337078</td>\n",
       "      <td>314914</td>\n",
       "      <td>333551</td>\n",
       "    </tr>\n",
       "    <tr>\n",
       "      <th>lower-middle-class senior</th>\n",
       "      <td>360408</td>\n",
       "      <td>342430</td>\n",
       "      <td>372231</td>\n",
       "      <td>345461</td>\n",
       "    </tr>\n",
       "    <tr>\n",
       "      <th>lower-middle-class yound adult</th>\n",
       "      <td>1321822</td>\n",
       "      <td>1353422</td>\n",
       "      <td>1338505</td>\n",
       "      <td>1346184</td>\n",
       "    </tr>\n",
       "    <tr>\n",
       "      <th>upper-class mid age</th>\n",
       "      <td>989459</td>\n",
       "      <td>979412</td>\n",
       "      <td>945180</td>\n",
       "      <td>983643</td>\n",
       "    </tr>\n",
       "    <tr>\n",
       "      <th>upper-class senior</th>\n",
       "      <td>1011226</td>\n",
       "      <td>991559</td>\n",
       "      <td>1038437</td>\n",
       "      <td>1018557</td>\n",
       "    </tr>\n",
       "    <tr>\n",
       "      <th>upper-class young adult</th>\n",
       "      <td>30121</td>\n",
       "      <td>33277</td>\n",
       "      <td>36246</td>\n",
       "      <td>33736</td>\n",
       "    </tr>\n",
       "    <tr>\n",
       "      <th>upper-middle-class mid age</th>\n",
       "      <td>891130</td>\n",
       "      <td>914475</td>\n",
       "      <td>885327</td>\n",
       "      <td>901833</td>\n",
       "    </tr>\n",
       "    <tr>\n",
       "      <th>upper-middle-class senior</th>\n",
       "      <td>943568</td>\n",
       "      <td>909640</td>\n",
       "      <td>932735</td>\n",
       "      <td>935380</td>\n",
       "    </tr>\n",
       "    <tr>\n",
       "      <th>upper-middle-class yound adult</th>\n",
       "      <td>198542</td>\n",
       "      <td>190963</td>\n",
       "      <td>197636</td>\n",
       "      <td>191703</td>\n",
       "    </tr>\n",
       "  </tbody>\n",
       "</table>\n",
       "</div>"
      ],
      "text/plain": [
       "dependants                            0        1        2        3\n",
       "customer_profile                                                  \n",
       "low-income mid age               335670   341242   327394   351620\n",
       "low-income senior                339389   349379   350832   341607\n",
       "low-income yound adult          1356122  1338227  1351706  1351834\n",
       "lower-middle-class mid age       320046   337078   314914   333551\n",
       "lower-middle-class senior        360408   342430   372231   345461\n",
       "lower-middle-class yound adult  1321822  1353422  1338505  1346184\n",
       "upper-class mid age              989459   979412   945180   983643\n",
       "upper-class senior              1011226   991559  1038437  1018557\n",
       "upper-class young adult           30121    33277    36246    33736\n",
       "upper-middle-class mid age       891130   914475   885327   901833\n",
       "upper-middle-class senior        943568   909640   932735   935380\n",
       "upper-middle-class yound adult   198542   190963   197636   191703"
      ]
     },
     "execution_count": 77,
     "metadata": {},
     "output_type": "execute_result"
    }
   ],
   "source": [
    "# Number of dependants by customer profile\n",
    "cust_dependants = pd.crosstab(df_all['customer_profile'], df_all['dependants'], dropna = False)\n",
    "cust_dependants"
   ]
  },
  {
   "cell_type": "markdown",
   "metadata": {},
   "source": [
    "## 5. Distribution of customer profile"
   ]
  },
  {
   "cell_type": "code",
   "execution_count": 78,
   "metadata": {},
   "outputs": [
    {
     "data": {
      "text/plain": [
       "low-income yound adult            5397889\n",
       "lower-middle-class yound adult    5359933\n",
       "upper-class senior                4059779\n",
       "upper-class mid age               3897694\n",
       "upper-middle-class senior         3721323\n",
       "upper-middle-class mid age        3592765\n",
       "lower-middle-class senior         1420530\n",
       "low-income senior                 1381207\n",
       "low-income mid age                1355926\n",
       "lower-middle-class mid age        1305589\n",
       "upper-middle-class yound adult     778844\n",
       "upper-class young adult            133380\n",
       "Name: customer_profile, dtype: int64"
      ]
     },
     "execution_count": 78,
     "metadata": {},
     "output_type": "execute_result"
    }
   ],
   "source": [
    "# Distribution of customer profile\n",
    "df_all['customer_profile'].value_counts()"
   ]
  },
  {
   "cell_type": "code",
   "execution_count": 25,
   "metadata": {},
   "outputs": [
    {
     "data": {
      "text/plain": [
       "Text(0.5, 0, 'User Count')"
      ]
     },
     "execution_count": 25,
     "metadata": {},
     "output_type": "execute_result"
    },
    {
     "data": {
      "image/png": "[encoded data removed]",
      "text/plain": [
       "<Figure size 640x480 with 1 Axes>"
      ]
     },
     "metadata": {},
     "output_type": "display_data"
    }
   ],
   "source": [
    "# Visualize the distribution of customer profile\n",
    "df_all['customer_profile'].value_counts(dropna= False).sort_values(ascending= True).plot.barh(color='#4f6784')\n",
    "plt.ylabel(' ') # Eliminate y lable\n",
    "plt.xlabel('User Count')"
   ]
  },
  {
   "cell_type": "markdown",
   "metadata": {},
   "source": [
    "## 6. Statistics on customer-profile for order frequency and expenditures"
   ]
  },
  {
   "cell_type": "code",
   "execution_count": 35,
   "metadata": {},
   "outputs": [
    {
     "data": {
      "text/html": [
       "<div>\n",
       "<style scoped>\n",
       "    .dataframe tbody tr th:only-of-type {\n",
       "        vertical-align: middle;\n",
       "    }\n",
       "\n",
       "    .dataframe tbody tr th {\n",
       "        vertical-align: top;\n",
       "    }\n",
       "\n",
       "    .dataframe thead tr th {\n",
       "        text-align: left;\n",
       "    }\n",
       "\n",
       "    .dataframe thead tr:last-of-type th {\n",
       "        text-align: right;\n",
       "    }\n",
       "</style>\n",
       "<table border=\"1\" class=\"dataframe\">\n",
       "  <thead>\n",
       "    <tr>\n",
       "      <th></th>\n",
       "      <th colspan=\"3\" halign=\"left\">days_since_prior_order</th>\n",
       "    </tr>\n",
       "    <tr>\n",
       "      <th></th>\n",
       "      <th>mean</th>\n",
       "      <th>min</th>\n",
       "      <th>max</th>\n",
       "    </tr>\n",
       "    <tr>\n",
       "      <th>customer_profile</th>\n",
       "      <th></th>\n",
       "      <th></th>\n",
       "      <th></th>\n",
       "    </tr>\n",
       "  </thead>\n",
       "  <tbody>\n",
       "    <tr>\n",
       "      <th>low-income mid age</th>\n",
       "      <td>11.465097</td>\n",
       "      <td>0</td>\n",
       "      <td>30</td>\n",
       "    </tr>\n",
       "    <tr>\n",
       "      <th>low-income yound adult</th>\n",
       "      <td>11.210998</td>\n",
       "      <td>0</td>\n",
       "      <td>30</td>\n",
       "    </tr>\n",
       "    <tr>\n",
       "      <th>low-ncome senior</th>\n",
       "      <td>11.621295</td>\n",
       "      <td>0</td>\n",
       "      <td>30</td>\n",
       "    </tr>\n",
       "    <tr>\n",
       "      <th>lower-middle-class mid age</th>\n",
       "      <td>11.078012</td>\n",
       "      <td>0</td>\n",
       "      <td>30</td>\n",
       "    </tr>\n",
       "    <tr>\n",
       "      <th>lower-middle-class senior</th>\n",
       "      <td>10.931313</td>\n",
       "      <td>0</td>\n",
       "      <td>30</td>\n",
       "    </tr>\n",
       "    <tr>\n",
       "      <th>lower-middle-class yound adult</th>\n",
       "      <td>10.996363</td>\n",
       "      <td>0</td>\n",
       "      <td>30</td>\n",
       "    </tr>\n",
       "    <tr>\n",
       "      <th>upper-class mid age</th>\n",
       "      <td>11.101339</td>\n",
       "      <td>0</td>\n",
       "      <td>30</td>\n",
       "    </tr>\n",
       "    <tr>\n",
       "      <th>upper-class senior</th>\n",
       "      <td>10.972620</td>\n",
       "      <td>0</td>\n",
       "      <td>30</td>\n",
       "    </tr>\n",
       "    <tr>\n",
       "      <th>upper-class young adult</th>\n",
       "      <td>10.356778</td>\n",
       "      <td>0</td>\n",
       "      <td>30</td>\n",
       "    </tr>\n",
       "    <tr>\n",
       "      <th>upper-middle-class mid age</th>\n",
       "      <td>11.024216</td>\n",
       "      <td>0</td>\n",
       "      <td>30</td>\n",
       "    </tr>\n",
       "    <tr>\n",
       "      <th>upper-middle-class senior</th>\n",
       "      <td>11.065450</td>\n",
       "      <td>0</td>\n",
       "      <td>30</td>\n",
       "    </tr>\n",
       "    <tr>\n",
       "      <th>upper-middle-class yound adult</th>\n",
       "      <td>11.321677</td>\n",
       "      <td>0</td>\n",
       "      <td>30</td>\n",
       "    </tr>\n",
       "  </tbody>\n",
       "</table>\n",
       "</div>"
      ],
      "text/plain": [
       "                               days_since_prior_order        \n",
       "                                                 mean min max\n",
       "customer_profile                                             \n",
       "low-income mid age                          11.465097   0  30\n",
       "low-income yound adult                      11.210998   0  30\n",
       "low-ncome senior                            11.621295   0  30\n",
       "lower-middle-class mid age                  11.078012   0  30\n",
       "lower-middle-class senior                   10.931313   0  30\n",
       "lower-middle-class yound adult              10.996363   0  30\n",
       "upper-class mid age                         11.101339   0  30\n",
       "upper-class senior                          10.972620   0  30\n",
       "upper-class young adult                     10.356778   0  30\n",
       "upper-middle-class mid age                  11.024216   0  30\n",
       "upper-middle-class senior                   11.065450   0  30\n",
       "upper-middle-class yound adult              11.321677   0  30"
      ]
     },
     "execution_count": 35,
     "metadata": {},
     "output_type": "execute_result"
    }
   ],
   "source": [
    "# Order frequency by customer profile\n",
    "freqt_customer_profile = df_all.groupby('customer_profile').agg({'days_since_prior_order': ['mean','min','max']})\n",
    "freqt_customer_profile"
   ]
  },
  {
   "cell_type": "code",
   "execution_count": 36,
   "metadata": {},
   "outputs": [
    {
     "data": {
      "text/html": [
       "<div>\n",
       "<style scoped>\n",
       "    .dataframe tbody tr th:only-of-type {\n",
       "        vertical-align: middle;\n",
       "    }\n",
       "\n",
       "    .dataframe tbody tr th {\n",
       "        vertical-align: top;\n",
       "    }\n",
       "\n",
       "    .dataframe thead tr th {\n",
       "        text-align: left;\n",
       "    }\n",
       "\n",
       "    .dataframe thead tr:last-of-type th {\n",
       "        text-align: right;\n",
       "    }\n",
       "</style>\n",
       "<table border=\"1\" class=\"dataframe\">\n",
       "  <thead>\n",
       "    <tr>\n",
       "      <th></th>\n",
       "      <th colspan=\"3\" halign=\"left\">prices</th>\n",
       "    </tr>\n",
       "    <tr>\n",
       "      <th></th>\n",
       "      <th>mean</th>\n",
       "      <th>min</th>\n",
       "      <th>max</th>\n",
       "    </tr>\n",
       "    <tr>\n",
       "      <th>customer_profile</th>\n",
       "      <th></th>\n",
       "      <th></th>\n",
       "      <th></th>\n",
       "    </tr>\n",
       "  </thead>\n",
       "  <tbody>\n",
       "    <tr>\n",
       "      <th>low-income mid age</th>\n",
       "      <td>6.687452</td>\n",
       "      <td>1.0</td>\n",
       "      <td>25.0</td>\n",
       "    </tr>\n",
       "    <tr>\n",
       "      <th>low-income yound adult</th>\n",
       "      <td>7.609188</td>\n",
       "      <td>1.0</td>\n",
       "      <td>14900.0</td>\n",
       "    </tr>\n",
       "    <tr>\n",
       "      <th>low-ncome senior</th>\n",
       "      <td>6.706769</td>\n",
       "      <td>1.0</td>\n",
       "      <td>25.0</td>\n",
       "    </tr>\n",
       "    <tr>\n",
       "      <th>lower-middle-class mid age</th>\n",
       "      <td>8.968633</td>\n",
       "      <td>1.0</td>\n",
       "      <td>99999.0</td>\n",
       "    </tr>\n",
       "    <tr>\n",
       "      <th>lower-middle-class senior</th>\n",
       "      <td>8.938854</td>\n",
       "      <td>1.0</td>\n",
       "      <td>99999.0</td>\n",
       "    </tr>\n",
       "    <tr>\n",
       "      <th>lower-middle-class yound adult</th>\n",
       "      <td>8.630475</td>\n",
       "      <td>1.0</td>\n",
       "      <td>99999.0</td>\n",
       "    </tr>\n",
       "    <tr>\n",
       "      <th>upper-class mid age</th>\n",
       "      <td>17.716093</td>\n",
       "      <td>1.0</td>\n",
       "      <td>99999.0</td>\n",
       "    </tr>\n",
       "    <tr>\n",
       "      <th>upper-class senior</th>\n",
       "      <td>17.329118</td>\n",
       "      <td>1.0</td>\n",
       "      <td>99999.0</td>\n",
       "    </tr>\n",
       "    <tr>\n",
       "      <th>upper-class young adult</th>\n",
       "      <td>289.113531</td>\n",
       "      <td>1.0</td>\n",
       "      <td>99999.0</td>\n",
       "    </tr>\n",
       "    <tr>\n",
       "      <th>upper-middle-class mid age</th>\n",
       "      <td>8.972061</td>\n",
       "      <td>1.0</td>\n",
       "      <td>99999.0</td>\n",
       "    </tr>\n",
       "    <tr>\n",
       "      <th>upper-middle-class senior</th>\n",
       "      <td>8.841936</td>\n",
       "      <td>1.0</td>\n",
       "      <td>99999.0</td>\n",
       "    </tr>\n",
       "    <tr>\n",
       "      <th>upper-middle-class yound adult</th>\n",
       "      <td>18.269532</td>\n",
       "      <td>1.0</td>\n",
       "      <td>99999.0</td>\n",
       "    </tr>\n",
       "  </tbody>\n",
       "</table>\n",
       "</div>"
      ],
      "text/plain": [
       "                                    prices              \n",
       "                                      mean  min      max\n",
       "customer_profile                                        \n",
       "low-income mid age                6.687452  1.0     25.0\n",
       "low-income yound adult            7.609188  1.0  14900.0\n",
       "low-ncome senior                  6.706769  1.0     25.0\n",
       "lower-middle-class mid age        8.968633  1.0  99999.0\n",
       "lower-middle-class senior         8.938854  1.0  99999.0\n",
       "lower-middle-class yound adult    8.630475  1.0  99999.0\n",
       "upper-class mid age              17.716093  1.0  99999.0\n",
       "upper-class senior               17.329118  1.0  99999.0\n",
       "upper-class young adult         289.113531  1.0  99999.0\n",
       "upper-middle-class mid age        8.972061  1.0  99999.0\n",
       "upper-middle-class senior         8.841936  1.0  99999.0\n",
       "upper-middle-class yound adult   18.269532  1.0  99999.0"
      ]
     },
     "execution_count": 36,
     "metadata": {},
     "output_type": "execute_result"
    }
   ],
   "source": [
    "# Expenditure by customer profile\n",
    "price_customer_profile = df_all.groupby('customer_profile').agg({'prices': ['mean', 'min', 'max']})\n",
    "price_customer_profile"
   ]
  },
  {
   "cell_type": "markdown",
   "metadata": {},
   "source": [
    "## 7. Customer analysis by region"
   ]
  },
  {
   "cell_type": "markdown",
   "metadata": {},
   "source": [
    "### 7.1 The South"
   ]
  },
  {
   "cell_type": "code",
   "execution_count": 26,
   "metadata": {},
   "outputs": [],
   "source": [
    "# Creat subset for the South region\n",
    "south_customer = df_all[df_all['region']== 'South']"
   ]
  },
  {
   "cell_type": "markdown",
   "metadata": {},
   "source": [
    "###### Demographic outlook"
   ]
  },
  {
   "cell_type": "code",
   "execution_count": 38,
   "metadata": {},
   "outputs": [
    {
     "data": {
      "text/plain": [
       "10108492"
      ]
     },
     "execution_count": 38,
     "metadata": {},
     "output_type": "execute_result"
    }
   ],
   "source": [
    "# User count for the South region \n",
    "south_customer['user_id'].value_counts().sum()"
   ]
  },
  {
   "cell_type": "code",
   "execution_count": 39,
   "metadata": {},
   "outputs": [
    {
     "data": {
      "text/plain": [
       "customer_profile\n",
       "lower-middle-class yound adult    1708134\n",
       "low-income yound adult            1697538\n",
       "upper-class senior                1265050\n",
       "upper-class mid age               1185187\n",
       "upper-middle-class senior         1146358\n",
       "upper-middle-class mid age        1083572\n",
       "lower-middle-class senior          456870\n",
       "low-ncome senior                   426796\n",
       "lower-middle-class mid age         423585\n",
       "low-income mid age                 419214\n",
       "upper-middle-class yound adult     248451\n",
       "upper-class young adult             47737\n",
       "Name: count, dtype: int64"
      ]
     },
     "execution_count": 39,
     "metadata": {},
     "output_type": "execute_result"
    }
   ],
   "source": [
    "# User count by customer profile \n",
    "south_customer['customer_profile'].value_counts()"
   ]
  },
  {
   "cell_type": "code",
   "execution_count": 40,
   "metadata": {},
   "outputs": [
    {
     "data": {
      "text/plain": [
       "fam_status\n",
       "married                             7082188\n",
       "single                              1668371\n",
       "divorced/widowed                     861973\n",
       "living with parents and siblings     495960\n",
       "Name: count, dtype: int64"
      ]
     },
     "execution_count": 40,
     "metadata": {},
     "output_type": "execute_result"
    }
   ],
   "source": [
    "# Family status count\n",
    "south_customer['fam_status'].value_counts()"
   ]
  },
  {
   "cell_type": "code",
   "execution_count": 41,
   "metadata": {},
   "outputs": [
    {
     "data": {
      "text/plain": [
       "n_dependants\n",
       "2    2551630\n",
       "3    2536085\n",
       "0    2530344\n",
       "1    2490433\n",
       "Name: count, dtype: int64"
      ]
     },
     "execution_count": 41,
     "metadata": {},
     "output_type": "execute_result"
    }
   ],
   "source": [
    "# Number of dependant count\n",
    "south_customer['n_dependants'].value_counts()"
   ]
  },
  {
   "cell_type": "markdown",
   "metadata": {},
   "source": [
    "###### Spending habbits"
   ]
  },
  {
   "cell_type": "code",
   "execution_count": 42,
   "metadata": {},
   "outputs": [
    {
     "data": {
      "text/plain": [
       "123169872.7999999"
      ]
     },
     "execution_count": 42,
     "metadata": {},
     "output_type": "execute_result"
    }
   ],
   "source": [
    "# Total spending of the South customers\n",
    "south_customer['prices'].sum()"
   ]
  },
  {
   "cell_type": "code",
   "execution_count": 43,
   "metadata": {
    "scrolled": true
   },
   "outputs": [
    {
     "data": {
      "text/plain": [
       "count    1.010849e+07\n",
       "mean     1.218479e+01\n",
       "std      5.071636e+02\n",
       "min      1.000000e+00\n",
       "25%      4.200000e+00\n",
       "50%      7.400000e+00\n",
       "75%      1.130000e+01\n",
       "max      9.999900e+04\n",
       "Name: prices, dtype: float64"
      ]
     },
     "execution_count": 43,
     "metadata": {},
     "output_type": "execute_result"
    }
   ],
   "source": [
    "# Customer spending statistics\n",
    "south_customer['prices'].describe()"
   ]
  },
  {
   "cell_type": "code",
   "execution_count": 62,
   "metadata": {},
   "outputs": [
    {
     "data": {
      "text/plain": [
       "spending_flag\n",
       "Low spender     9910931\n",
       "High spender     197561\n",
       "Name: count, dtype: int64"
      ]
     },
     "execution_count": 62,
     "metadata": {},
     "output_type": "execute_result"
    }
   ],
   "source": [
    "# Spending habbits outlook\n",
    "\n",
    "south_customer['spending_flag'].value_counts(dropna= False)"
   ]
  },
  {
   "cell_type": "markdown",
   "metadata": {},
   "source": [
    "###### Favorite goods and department"
   ]
  },
  {
   "cell_type": "code",
   "execution_count": 45,
   "metadata": {},
   "outputs": [
    {
     "data": {
      "text/plain": [
       "product_name\n",
       "Banana                    148510\n",
       "Bag of Organic Bananas    119220\n",
       "Organic Strawberries       82849\n",
       "Organic Baby Spinach       76447\n",
       "Organic Hass Avocado       66157\n",
       "Organic Avocado            53917\n",
       "Large Lemon                47507\n",
       "Strawberries               44902\n",
       "Organic Raspberries        44078\n",
       "Organic Whole Milk         44072\n",
       "Name: count, dtype: int64"
      ]
     },
     "execution_count": 45,
     "metadata": {},
     "output_type": "execute_result"
    }
   ],
   "source": [
    "# Top 10 goods by order\n",
    "south_customer['product_name'].value_counts(dropna =  False ).sort_values(ascending = False).head(10)"
   ]
  },
  {
   "cell_type": "code",
   "execution_count": 46,
   "metadata": {},
   "outputs": [
    {
     "data": {
      "text/plain": [
       "department_id\n",
       "4     2965921\n",
       "16    1691172\n",
       "19     896804\n",
       "7      842605\n",
       "1      695858\n",
       "Name: count, dtype: int64"
      ]
     },
     "execution_count": 46,
     "metadata": {},
     "output_type": "execute_result"
    }
   ],
   "source": [
    "# The most counts of order by departments\n",
    "south_customer['department_id'].value_counts(dropna= False).sort_values(ascending = False).head(5)"
   ]
  },
  {
   "cell_type": "code",
   "execution_count": 47,
   "metadata": {},
   "outputs": [],
   "source": [
    "# Set data dictionary\n",
    "department_index.set_index('department_id', inplace=True)\n",
    "dept_dict = department_index.to_dict('index') "
   ]
  },
  {
   "cell_type": "code",
   "execution_count": 48,
   "metadata": {},
   "outputs": [
    {
     "name": "stdout",
     "output_type": "stream",
     "text": [
      "{'department': 'produce'}\n"
     ]
    }
   ],
   "source": [
    "print(dept_dict.get(4))"
   ]
  },
  {
   "cell_type": "code",
   "execution_count": 49,
   "metadata": {},
   "outputs": [
    {
     "name": "stdout",
     "output_type": "stream",
     "text": [
      "{'department': 'dairy eggs'}\n"
     ]
    }
   ],
   "source": [
    "print(dept_dict.get(16))"
   ]
  },
  {
   "cell_type": "code",
   "execution_count": 50,
   "metadata": {},
   "outputs": [
    {
     "name": "stdout",
     "output_type": "stream",
     "text": [
      "{'department': 'snacks'}\n"
     ]
    }
   ],
   "source": [
    "print(dept_dict.get(19))"
   ]
  },
  {
   "cell_type": "markdown",
   "metadata": {},
   "source": [
    "###### Produce, dairy eggs and snacks are the top 3 popular departments for order"
   ]
  },
  {
   "cell_type": "markdown",
   "metadata": {},
   "source": [
    "###### Order habbits "
   ]
  },
  {
   "cell_type": "code",
   "execution_count": 51,
   "metadata": {},
   "outputs": [
    {
     "data": {
      "text/plain": [
       "loyalty_flag\n",
       "Regular customer    5049359\n",
       "Loyal customer      3345805\n",
       "New customer        1713328\n",
       "Name: count, dtype: int64"
      ]
     },
     "execution_count": 51,
     "metadata": {},
     "output_type": "execute_result"
    }
   ],
   "source": [
    "# Brand loyalty check\n",
    "south_customer['loyalty_flag'].value_counts(dropna= False)"
   ]
  },
  {
   "cell_type": "code",
   "execution_count": 52,
   "metadata": {},
   "outputs": [
    {
     "data": {
      "text/plain": [
       "frequency_flag\n",
       "Frequent customer        6902746\n",
       "Regular customer         2182888\n",
       "Non-frequent customer    1022858\n",
       "Name: count, dtype: int64"
      ]
     },
     "execution_count": 52,
     "metadata": {},
     "output_type": "execute_result"
    }
   ],
   "source": [
    "# Order frequency check\n",
    "south_customer['frequency_flag'].value_counts(dropna= False)"
   ]
  },
  {
   "cell_type": "code",
   "execution_count": 53,
   "metadata": {},
   "outputs": [
    {
     "data": {
      "text/plain": [
       "customer_activity\n",
       "high_activity customer    8136051\n",
       "low_activity customers    1972441\n",
       "Name: count, dtype: int64"
      ]
     },
     "execution_count": 53,
     "metadata": {},
     "output_type": "execute_result"
    }
   ],
   "source": [
    "# The number of order check\n",
    "south_customer['customer_activity'].value_counts(dropna= False)"
   ]
  },
  {
   "cell_type": "markdown",
   "metadata": {},
   "source": [
    "### 7.2 The West"
   ]
  },
  {
   "cell_type": "code",
   "execution_count": 80,
   "metadata": {},
   "outputs": [],
   "source": [
    "# Create subset for the West region\n",
    "west_customer = df_all.loc[df_all['region'] == 'West']"
   ]
  },
  {
   "cell_type": "markdown",
   "metadata": {},
   "source": [
    "###### Demographic outlook"
   ]
  },
  {
   "cell_type": "code",
   "execution_count": 81,
   "metadata": {},
   "outputs": [
    {
     "data": {
      "text/plain": [
       "8292913"
      ]
     },
     "execution_count": 81,
     "metadata": {},
     "output_type": "execute_result"
    }
   ],
   "source": [
    "# User count of the West region \n",
    "west_customer['user_id'].value_counts().sum()"
   ]
  },
  {
   "cell_type": "code",
   "execution_count": 82,
   "metadata": {},
   "outputs": [
    {
     "data": {
      "text/plain": [
       "low-income yound adult            1386248\n",
       "lower-middle-class yound adult    1344002\n",
       "upper-class senior                1026950\n",
       "upper-class mid age               1008462\n",
       "upper-middle-class senior          955045\n",
       "upper-middle-class mid age         925178\n",
       "lower-middle-class senior          369988\n",
       "low-income senior                  353317\n",
       "low-income mid age                 350423\n",
       "lower-middle-class mid age         343874\n",
       "upper-middle-class yound adult     199954\n",
       "upper-class young adult             29472\n",
       "Name: customer_profile, dtype: int64"
      ]
     },
     "execution_count": 82,
     "metadata": {},
     "output_type": "execute_result"
    }
   ],
   "source": [
    "# Customer profile count\n",
    "west_customer['customer_profile'].value_counts()"
   ]
  },
  {
   "cell_type": "code",
   "execution_count": 83,
   "metadata": {},
   "outputs": [
    {
     "data": {
      "text/plain": [
       "married                             5834182\n",
       "single                              1368840\n",
       "divorced/widowed                     703503\n",
       "living with parents and siblings     386388\n",
       "Name: family_status, dtype: int64"
      ]
     },
     "execution_count": 83,
     "metadata": {},
     "output_type": "execute_result"
    }
   ],
   "source": [
    "# Marriage status count\n",
    "west_customer['family_status'].value_counts()"
   ]
  },
  {
   "cell_type": "code",
   "execution_count": 84,
   "metadata": {},
   "outputs": [
    {
     "data": {
      "text/plain": [
       "3    2108824\n",
       "0    2072343\n",
       "2    2059097\n",
       "1    2052649\n",
       "Name: dependants, dtype: int64"
      ]
     },
     "execution_count": 84,
     "metadata": {},
     "output_type": "execute_result"
    }
   ],
   "source": [
    "# Number of dependant count\n",
    "west_customer['dependants'].value_counts()"
   ]
  },
  {
   "cell_type": "markdown",
   "metadata": {},
   "source": [
    "###### Spending habbits"
   ]
  },
  {
   "cell_type": "code",
   "execution_count": 85,
   "metadata": {},
   "outputs": [
    {
     "data": {
      "text/plain": [
       "93874398.69999997"
      ]
     },
     "execution_count": 85,
     "metadata": {},
     "output_type": "execute_result"
    }
   ],
   "source": [
    "# Total spending of the South customers\n",
    "west_customer['prices'].sum()"
   ]
  },
  {
   "cell_type": "code",
   "execution_count": 86,
   "metadata": {},
   "outputs": [
    {
     "data": {
      "text/plain": [
       "count    8.292913e+06\n",
       "mean     1.131983e+01\n",
       "std      4.288414e+02\n",
       "min      1.000000e+00\n",
       "25%      4.200000e+00\n",
       "50%      7.400000e+00\n",
       "75%      1.120000e+01\n",
       "max      9.999900e+04\n",
       "Name: prices, dtype: float64"
      ]
     },
     "execution_count": 86,
     "metadata": {},
     "output_type": "execute_result"
    }
   ],
   "source": [
    "# Customer spending statistics\n",
    "west_customer['prices'].describe()"
   ]
  },
  {
   "cell_type": "code",
   "execution_count": 87,
   "metadata": {},
   "outputs": [
    {
     "data": {
      "text/plain": [
       "Low spender     8132585\n",
       "High spender     160328\n",
       "Name: spending_flag, dtype: int64"
      ]
     },
     "execution_count": 87,
     "metadata": {},
     "output_type": "execute_result"
    }
   ],
   "source": [
    "# Spending habbits outlook\n",
    "west_customer['spending_flag'].value_counts(dropna= False)"
   ]
  },
  {
   "cell_type": "markdown",
   "metadata": {},
   "source": [
    "###### Favorite goods"
   ]
  },
  {
   "cell_type": "code",
   "execution_count": 88,
   "metadata": {},
   "outputs": [
    {
     "data": {
      "text/plain": [
       "Banana                    120557\n",
       "Bag of Organic Bananas     97710\n",
       "Organic Strawberries       67790\n",
       "Organic Baby Spinach       62128\n",
       "Organic Hass Avocado       56522\n",
       "Organic Avocado            44410\n",
       "Large Lemon                38468\n",
       "Strawberries               36801\n",
       "Limes                      36185\n",
       "Organic Whole Milk         35146\n",
       "Name: product_name, dtype: int64"
      ]
     },
     "execution_count": 88,
     "metadata": {},
     "output_type": "execute_result"
    }
   ],
   "source": [
    "# Top 10 goods by order\n",
    "west_customer['product_name'].value_counts(dropna =  False ).sort_values(ascending = False).head(10)"
   ]
  },
  {
   "cell_type": "code",
   "execution_count": 89,
   "metadata": {},
   "outputs": [
    {
     "data": {
      "text/plain": [
       "4     2424964\n",
       "16    1383529\n",
       "19     741814\n",
       "7      680191\n",
       "1      571829\n",
       "Name: department_id, dtype: int64"
      ]
     },
     "execution_count": 89,
     "metadata": {},
     "output_type": "execute_result"
    }
   ],
   "source": [
    "# The most counts of order by departments\n",
    "west_customer['department_id'].value_counts(dropna= False).sort_values(ascending = False).head(5)"
   ]
  },
  {
   "cell_type": "markdown",
   "metadata": {},
   "source": [
    "###### Produce, dairy eggs and snacks are the top 3 popular departments."
   ]
  },
  {
   "cell_type": "markdown",
   "metadata": {},
   "source": [
    "###### Order habbits "
   ]
  },
  {
   "cell_type": "code",
   "execution_count": 90,
   "metadata": {},
   "outputs": [
    {
     "data": {
      "text/plain": [
       "Regular customer    4033423\n",
       "Loyal customer      2662690\n",
       "New customer        1596800\n",
       "Name: loyalty_flag, dtype: int64"
      ]
     },
     "execution_count": 90,
     "metadata": {},
     "output_type": "execute_result"
    }
   ],
   "source": [
    "# Brand loyalty check\n",
    "west_customer['loyalty_flag'].value_counts(dropna= False)"
   ]
  },
  {
   "cell_type": "code",
   "execution_count": 95,
   "metadata": {},
   "outputs": [
    {
     "data": {
      "text/plain": [
       "Index(['product_id', 'product_name', 'aisle_id', 'department_id', 'prices',\n",
       "       'order_id', 'user_id', 'order_number', 'orders_day_of_week',\n",
       "       'order_hour_of_day', 'days_since_prior_order', 'first_order',\n",
       "       'add_to_cart_order', 'reordered', '_merge', 'price_range_loc',\n",
       "       'busiest_day', 'busiest_days', 'busiest_period_of_day', 'max_order',\n",
       "       'loyalty_flag', 'mean_product_price', 'spending_flag',\n",
       "       'median_days_between_orders', 'order_frequency', 'first_name',\n",
       "       'surname', 'Gender', 'State', 'Age', 'date_joined', 'dependants',\n",
       "       'family_status', 'income', 'exists', 'region', 'customer_activity',\n",
       "       'customer_profile'],\n",
       "      dtype='object')"
      ]
     },
     "execution_count": 95,
     "metadata": {},
     "output_type": "execute_result"
    }
   ],
   "source": [
    "west_customer.columns"
   ]
  },
  {
   "cell_type": "code",
   "execution_count": 96,
   "metadata": {},
   "outputs": [
    {
     "data": {
      "text/plain": [
       "Frequent customer        5545206\n",
       "Regular customer         1819959\n",
       "Non-frequent customer     927748\n",
       "Name: order_frequency, dtype: int64"
      ]
     },
     "execution_count": 96,
     "metadata": {},
     "output_type": "execute_result"
    }
   ],
   "source": [
    "# Order frequency check\n",
    "west_customer['order_frequency'].value_counts(dropna= False)"
   ]
  },
  {
   "cell_type": "code",
   "execution_count": 97,
   "metadata": {},
   "outputs": [
    {
     "data": {
      "text/plain": [
       "high_activity customer    6258764\n",
       "low_activity customers    2034149\n",
       "Name: customer_activity, dtype: int64"
      ]
     },
     "execution_count": 97,
     "metadata": {},
     "output_type": "execute_result"
    }
   ],
   "source": [
    "# The number of order check\n",
    "west_customer['customer_activity'].value_counts(dropna= False)"
   ]
  },
  {
   "cell_type": "markdown",
   "metadata": {},
   "source": [
    "### 7.3 The Midwest"
   ]
  },
  {
   "cell_type": "code",
   "execution_count": 98,
   "metadata": {},
   "outputs": [],
   "source": [
    "# Create subset for the Mid-west region\n",
    "midwest_customer = df_all.loc[df_all['region'] == 'Midwest']"
   ]
  },
  {
   "cell_type": "markdown",
   "metadata": {},
   "source": [
    "###### Demographic outlook"
   ]
  },
  {
   "cell_type": "code",
   "execution_count": 99,
   "metadata": {},
   "outputs": [
    {
     "data": {
      "text/plain": [
       "7597325"
      ]
     },
     "execution_count": 99,
     "metadata": {},
     "output_type": "execute_result"
    }
   ],
   "source": [
    "# Count the number of users \n",
    "midwest_customer['user_id'].value_counts().sum()"
   ]
  },
  {
   "cell_type": "code",
   "execution_count": 100,
   "metadata": {},
   "outputs": [
    {
     "data": {
      "text/plain": [
       "low-income yound adult            1250564\n",
       "lower-middle-class yound adult    1246572\n",
       "upper-class senior                 949616\n",
       "upper-class mid age                945046\n",
       "upper-middle-class senior          883184\n",
       "upper-middle-class mid age         863093\n",
       "low-income senior                  318561\n",
       "low-income mid age                 316708\n",
       "lower-middle-class senior          313898\n",
       "lower-middle-class mid age         292741\n",
       "upper-middle-class yound adult     187539\n",
       "upper-class young adult             29803\n",
       "Name: customer_profile, dtype: int64"
      ]
     },
     "execution_count": 100,
     "metadata": {},
     "output_type": "execute_result"
    }
   ],
   "source": [
    "# Customer profile count\n",
    "midwest_customer['customer_profile'].value_counts()"
   ]
  },
  {
   "cell_type": "code",
   "execution_count": 101,
   "metadata": {},
   "outputs": [
    {
     "data": {
      "text/plain": [
       "married                             5325608\n",
       "single                              1258799\n",
       "divorced/widowed                     646401\n",
       "living with parents and siblings     366517\n",
       "Name: family_status, dtype: int64"
      ]
     },
     "execution_count": 101,
     "metadata": {},
     "output_type": "execute_result"
    }
   ],
   "source": [
    "# Marriage status count\n",
    "midwest_customer['family_status'].value_counts()"
   ]
  },
  {
   "cell_type": "code",
   "execution_count": 102,
   "metadata": {},
   "outputs": [
    {
     "data": {
      "text/plain": [
       "1    1926472\n",
       "0    1905200\n",
       "2    1890986\n",
       "3    1874667\n",
       "Name: dependants, dtype: int64"
      ]
     },
     "execution_count": 102,
     "metadata": {},
     "output_type": "execute_result"
    }
   ],
   "source": [
    "# Number of dependant count\n",
    "midwest_customer['dependants'].value_counts()"
   ]
  },
  {
   "cell_type": "markdown",
   "metadata": {},
   "source": [
    "###### Spending habbits"
   ]
  },
  {
   "cell_type": "code",
   "execution_count": 103,
   "metadata": {},
   "outputs": [
    {
     "data": {
      "text/plain": [
       "96603658.69999996"
      ]
     },
     "execution_count": 103,
     "metadata": {},
     "output_type": "execute_result"
    }
   ],
   "source": [
    "# Total spending of the South customers\n",
    "midwest_customer['prices'].sum()"
   ]
  },
  {
   "cell_type": "code",
   "execution_count": 104,
   "metadata": {},
   "outputs": [
    {
     "data": {
      "text/plain": [
       "count    7.597325e+06\n",
       "mean     1.271548e+01\n",
       "std      5.644385e+02\n",
       "min      1.000000e+00\n",
       "25%      4.200000e+00\n",
       "50%      7.400000e+00\n",
       "75%      1.130000e+01\n",
       "max      9.999900e+04\n",
       "Name: prices, dtype: float64"
      ]
     },
     "execution_count": 104,
     "metadata": {},
     "output_type": "execute_result"
    }
   ],
   "source": [
    "# Customer spending statistics\n",
    "midwest_customer['prices'].describe()"
   ]
  },
  {
   "cell_type": "code",
   "execution_count": 105,
   "metadata": {},
   "outputs": [
    {
     "data": {
      "text/plain": [
       "Low spender     7441350\n",
       "High spender     155975\n",
       "Name: spending_flag, dtype: int64"
      ]
     },
     "execution_count": 105,
     "metadata": {},
     "output_type": "execute_result"
    }
   ],
   "source": [
    "# Spending habbits outlook\n",
    "\n",
    "midwest_customer['spending_flag'].value_counts(dropna= False)"
   ]
  },
  {
   "cell_type": "markdown",
   "metadata": {},
   "source": [
    "###### Favorite goods"
   ]
  },
  {
   "cell_type": "code",
   "execution_count": 106,
   "metadata": {},
   "outputs": [
    {
     "data": {
      "text/plain": [
       "Banana                    110327\n",
       "Bag of Organic Bananas     89270\n",
       "Organic Strawberries       61611\n",
       "Organic Baby Spinach       56220\n",
       "Organic Hass Avocado       49434\n",
       "Organic Avocado            41495\n",
       "Large Lemon                36959\n",
       "Strawberries               33630\n",
       "Limes                      33189\n",
       "Organic Raspberries        31778\n",
       "Name: product_name, dtype: int64"
      ]
     },
     "execution_count": 106,
     "metadata": {},
     "output_type": "execute_result"
    }
   ],
   "source": [
    "# Top 10 goods by order\n",
    "midwest_customer['product_name'].value_counts(dropna =  False ).sort_values(ascending = False).head(10)"
   ]
  },
  {
   "cell_type": "code",
   "execution_count": 107,
   "metadata": {},
   "outputs": [
    {
     "data": {
      "text/plain": [
       "4     2227937\n",
       "16    1264223\n",
       "19     673715\n",
       "7      625574\n",
       "1      524096\n",
       "Name: department_id, dtype: int64"
      ]
     },
     "execution_count": 107,
     "metadata": {},
     "output_type": "execute_result"
    }
   ],
   "source": [
    "# The most counts of order by departments\n",
    "midwest_customer['department_id'].value_counts(dropna= False).sort_values(ascending = False).head(5)"
   ]
  },
  {
   "cell_type": "markdown",
   "metadata": {},
   "source": [
    "###### Produce, dairy eggs and snacks are the top 3 popular departments."
   ]
  },
  {
   "cell_type": "markdown",
   "metadata": {},
   "source": [
    "###### Order habbits "
   ]
  },
  {
   "cell_type": "code",
   "execution_count": 108,
   "metadata": {},
   "outputs": [
    {
     "data": {
      "text/plain": [
       "Regular customer    3750978\n",
       "Loyal customer      2373774\n",
       "New customer        1472573\n",
       "Name: loyalty_flag, dtype: int64"
      ]
     },
     "execution_count": 108,
     "metadata": {},
     "output_type": "execute_result"
    }
   ],
   "source": [
    "# Brand loyalty check\n",
    "midwest_customer['loyalty_flag'].value_counts(dropna= False)"
   ]
  },
  {
   "cell_type": "code",
   "execution_count": 110,
   "metadata": {},
   "outputs": [
    {
     "data": {
      "text/plain": [
       "Frequent customer        5017709\n",
       "Regular customer         1716197\n",
       "Non-frequent customer     863419\n",
       "Name: order_frequency, dtype: int64"
      ]
     },
     "execution_count": 110,
     "metadata": {},
     "output_type": "execute_result"
    }
   ],
   "source": [
    "# Order frequency check\n",
    "midwest_customer['order_frequency'].value_counts(dropna= False)"
   ]
  },
  {
   "cell_type": "code",
   "execution_count": 111,
   "metadata": {},
   "outputs": [
    {
     "data": {
      "text/plain": [
       "high_activity customer    5711756\n",
       "low_activity customers    1885569\n",
       "Name: customer_activity, dtype: int64"
      ]
     },
     "execution_count": 111,
     "metadata": {},
     "output_type": "execute_result"
    }
   ],
   "source": [
    "# The number of order check\n",
    "midwest_customer['customer_activity'].value_counts(dropna= False)"
   ]
  },
  {
   "cell_type": "markdown",
   "metadata": {},
   "source": [
    "### 7.4 The Northeast"
   ]
  },
  {
   "cell_type": "code",
   "execution_count": 112,
   "metadata": {},
   "outputs": [],
   "source": [
    "# Create subset for the North-east region\n",
    "northeast_customer = df_all.loc[df_all['region'] == 'Northeast']"
   ]
  },
  {
   "cell_type": "markdown",
   "metadata": {},
   "source": [
    "###### Demographic outlook"
   ]
  },
  {
   "cell_type": "code",
   "execution_count": 113,
   "metadata": {},
   "outputs": [
    {
     "data": {
      "text/plain": [
       "5722736"
      ]
     },
     "execution_count": 113,
     "metadata": {},
     "output_type": "execute_result"
    }
   ],
   "source": [
    "# Count the number of users \n",
    "northeast_customer['user_id'].value_counts().sum()"
   ]
  },
  {
   "cell_type": "code",
   "execution_count": 114,
   "metadata": {},
   "outputs": [
    {
     "data": {
      "text/plain": [
       "lower-middle-class yound adult    950948\n",
       "low-income yound adult            945391\n",
       "upper-class senior                734201\n",
       "upper-class mid age               679329\n",
       "upper-middle-class senior         659157\n",
       "upper-middle-class mid age        648117\n",
       "lower-middle-class senior         250785\n",
       "low-income senior                 250049\n",
       "low-income mid age                237146\n",
       "lower-middle-class mid age        218104\n",
       "upper-middle-class yound adult    125359\n",
       "upper-class young adult            24150\n",
       "Name: customer_profile, dtype: int64"
      ]
     },
     "execution_count": 114,
     "metadata": {},
     "output_type": "execute_result"
    }
   ],
   "source": [
    "# Customer profile count\n",
    "northeast_customer['customer_profile'].value_counts()"
   ]
  },
  {
   "cell_type": "code",
   "execution_count": 116,
   "metadata": {},
   "outputs": [
    {
     "data": {
      "text/plain": [
       "married                             4036321\n",
       "single                               917242\n",
       "divorced/widowed                     501059\n",
       "living with parents and siblings     268114\n",
       "Name: family_status, dtype: int64"
      ]
     },
     "execution_count": 116,
     "metadata": {},
     "output_type": "execute_result"
    }
   ],
   "source": [
    "# Marriage status count\n",
    "northeast_customer['family_status'].value_counts()"
   ]
  },
  {
   "cell_type": "code",
   "execution_count": 117,
   "metadata": {},
   "outputs": [
    {
     "data": {
      "text/plain": [
       "3    1445080\n",
       "1    1442253\n",
       "0    1418301\n",
       "2    1417102\n",
       "Name: dependants, dtype: int64"
      ]
     },
     "execution_count": 117,
     "metadata": {},
     "output_type": "execute_result"
    }
   ],
   "source": [
    "# Number of dependant count\n",
    "northeast_customer['dependants'].value_counts()"
   ]
  },
  {
   "cell_type": "markdown",
   "metadata": {},
   "source": [
    "###### Spending habbits"
   ]
  },
  {
   "cell_type": "code",
   "execution_count": 118,
   "metadata": {},
   "outputs": [
    {
     "data": {
      "text/plain": [
       "66126199.799999975"
      ]
     },
     "execution_count": 118,
     "metadata": {},
     "output_type": "execute_result"
    }
   ],
   "source": [
    "# Total spending of the South customers\n",
    "northeast_customer['prices'].sum()"
   ]
  },
  {
   "cell_type": "code",
   "execution_count": 103,
   "metadata": {},
   "outputs": [
    {
     "data": {
      "text/plain": [
       "count    5.361318e+06\n",
       "mean     1.152644e+01\n",
       "std      4.595899e+02\n",
       "min      1.000000e+00\n",
       "25%      4.200000e+00\n",
       "50%      7.400000e+00\n",
       "75%      1.130000e+01\n",
       "max      9.999900e+04\n",
       "Name: prices, dtype: float64"
      ]
     },
     "execution_count": 103,
     "metadata": {},
     "output_type": "execute_result"
    }
   ],
   "source": [
    "# Customer spending statistics\n",
    "northeast_customer['prices'].describe()"
   ]
  },
  {
   "cell_type": "code",
   "execution_count": 119,
   "metadata": {},
   "outputs": [
    {
     "data": {
      "text/plain": [
       "Low spender     5614536\n",
       "High spender     108200\n",
       "Name: spending_flag, dtype: int64"
      ]
     },
     "execution_count": 119,
     "metadata": {},
     "output_type": "execute_result"
    }
   ],
   "source": [
    "# Spending habbits outlook\n",
    "northeast_customer['spending_flag'].value_counts(dropna= False)"
   ]
  },
  {
   "cell_type": "markdown",
   "metadata": {},
   "source": [
    "###### Favorite goods"
   ]
  },
  {
   "cell_type": "code",
   "execution_count": 120,
   "metadata": {},
   "outputs": [
    {
     "data": {
      "text/plain": [
       "Banana                    83345\n",
       "Bag of Organic Bananas    66885\n",
       "Organic Strawberries      46903\n",
       "Organic Baby Spinach      42174\n",
       "Organic Hass Avocado      37795\n",
       "Organic Avocado           31895\n",
       "Large Lemon               26973\n",
       "Organic Whole Milk        24917\n",
       "Strawberries              24702\n",
       "Limes                     24640\n",
       "Name: product_name, dtype: int64"
      ]
     },
     "execution_count": 120,
     "metadata": {},
     "output_type": "execute_result"
    }
   ],
   "source": [
    "# Top 10 goods by order\n",
    "northeast_customer['product_name'].value_counts(dropna =  False ).sort_values(ascending = False).head(10)"
   ]
  },
  {
   "cell_type": "code",
   "execution_count": 121,
   "metadata": {},
   "outputs": [
    {
     "data": {
      "text/plain": [
       "4     1665839\n",
       "16     954026\n",
       "19     514675\n",
       "7      483418\n",
       "1      390918\n",
       "Name: department_id, dtype: int64"
      ]
     },
     "execution_count": 121,
     "metadata": {},
     "output_type": "execute_result"
    }
   ],
   "source": [
    "# The most counts of order by departments\n",
    "northeast_customer['department_id'].value_counts(dropna= False).sort_values(ascending = False).head(5)"
   ]
  },
  {
   "cell_type": "markdown",
   "metadata": {},
   "source": [
    "###### Produce, dairy eggs and snacks are the top 3 popular departments."
   ]
  },
  {
   "cell_type": "markdown",
   "metadata": {},
   "source": [
    "###### Order habbits "
   ]
  },
  {
   "cell_type": "code",
   "execution_count": 122,
   "metadata": {},
   "outputs": [
    {
     "data": {
      "text/plain": [
       "Regular customer    2780744\n",
       "Loyal customer      1841785\n",
       "New customer        1100207\n",
       "Name: loyalty_flag, dtype: int64"
      ]
     },
     "execution_count": 122,
     "metadata": {},
     "output_type": "execute_result"
    }
   ],
   "source": [
    "# Brand loyalty check\n",
    "northeast_customer['loyalty_flag'].value_counts(dropna= False)"
   ]
  },
  {
   "cell_type": "code",
   "execution_count": 123,
   "metadata": {},
   "outputs": [
    {
     "data": {
      "text/plain": [
       "Frequent customer        3804566\n",
       "Regular customer         1287988\n",
       "Non-frequent customer     630182\n",
       "Name: order_frequency, dtype: int64"
      ]
     },
     "execution_count": 123,
     "metadata": {},
     "output_type": "execute_result"
    }
   ],
   "source": [
    "# Order frequency check\n",
    "northeast_customer['order_frequency'].value_counts(dropna= False)"
   ]
  },
  {
   "cell_type": "code",
   "execution_count": 124,
   "metadata": {},
   "outputs": [
    {
     "data": {
      "text/plain": [
       "high_activity customer    4315271\n",
       "low_activity customers    1407465\n",
       "Name: customer_activity, dtype: int64"
      ]
     },
     "execution_count": 124,
     "metadata": {},
     "output_type": "execute_result"
    }
   ],
   "source": [
    "# The number of order check\n",
    "northeast_customer['customer_activity'].value_counts(dropna= False)"
   ]
  },
  {
   "cell_type": "markdown",
   "metadata": {},
   "source": [
    "## 8. Visualizations"
   ]
  },
  {
   "cell_type": "markdown",
   "metadata": {},
   "source": [
    "###### 8.1 Odering Habitts with Ordering Time and Day"
   ]
  },
  {
   "cell_type": "code",
   "execution_count": 126,
   "metadata": {
    "scrolled": true
   },
   "outputs": [
    {
     "data": {
      "text/plain": [
       "Text(0.5, 1.0, 'Histogram of Order Day of Week')"
      ]
     },
     "execution_count": 126,
     "metadata": {},
     "output_type": "execute_result"
    },
    {
     "data": {
      "image/png": "[encoded data removed]",
      "text/plain": [
       "<Figure size 432x288 with 1 Axes>"
      ]
     },
     "metadata": {
      "needs_background": "light"
     },
     "output_type": "display_data"
    }
   ],
   "source": [
    "# Viz of the busiest day of week for order\n",
    "busiest_dow = df_all['orders_day_of_week'].plot.hist(bins = 20, color = '#4c627f')\n",
    "\n",
    "plt.xlabel('Order Day of Week')  # Label for the x-axis\n",
    "plt.title('Histogram of Order Day of Week') # Chart title"
   ]
  },
  {
   "cell_type": "code",
   "execution_count": 129,
   "metadata": {},
   "outputs": [
    {
     "data": {
      "text/plain": [
       "Text(0.5, 1.0, 'Histogram of Order Time of Day')"
      ]
     },
     "execution_count": 129,
     "metadata": {},
     "output_type": "execute_result"
    },
    {
     "data": {
      "image/png": "[encoded data removed]",
      "text/plain": [
       "<Figure size 432x288 with 1 Axes>"
      ]
     },
     "metadata": {
      "needs_background": "light"
     },
     "output_type": "display_data"
    }
   ],
   "source": [
    "# Viz of the busiest hour of day for order\n",
    "busiest_hod = df_all['order_hour_of_day'].plot.hist(bins = 24, color = '#7f95b2')\n",
    "\n",
    "plt.xlabel('Order Time of Day')  # Label for the x-axis\n",
    "plt.title('Histogram of Order Time of Day')  # Title of the bar chart"
   ]
  },
  {
   "cell_type": "markdown",
   "metadata": {},
   "source": [
    "###### 8.2 Product Price with Day and Time"
   ]
  },
  {
   "cell_type": "code",
   "execution_count": 127,
   "metadata": {},
   "outputs": [],
   "source": [
    "# Create Sample data\n",
    "np.random.seed(4)\n",
    "dev = np.random.rand(len(df_all)) <= 0.7\n",
    "\n",
    "# Store 70% of the sample in the data frame big\n",
    "big = df_all[dev]\n",
    "# Store 30% of the sample in the data frame small\n",
    "small = df_all[~dev] "
   ]
  },
  {
   "cell_type": "code",
   "execution_count": 133,
   "metadata": {
    "scrolled": true
   },
   "outputs": [
    {
     "data": {
      "text/plain": [
       "Text(0.5, 1.0, 'Trend of Product Price with Order Time')"
      ]
     },
     "execution_count": 133,
     "metadata": {},
     "output_type": "execute_result"
    },
    {
     "data": {
      "image/png": "[encoded data removed]",
      "text/plain": [
       "<Figure size 432x288 with 1 Axes>"
      ]
     },
     "metadata": {
      "needs_background": "light"
     },
     "output_type": "display_data"
    }
   ],
   "source": [
    "# Create line chart with random small sample data of the dataset to discover the insight of the price of goods and the order time of the day\n",
    "\n",
    "tod_price = sns.lineplot(data = small, x = 'order_hour_of_day',y = 'prices',color = '#5f7b9f')\n",
    "\n",
    "plt.xlabel('Order Time of Day')  # Label for the x-axis\n",
    "plt.title('Trend of Product Price with Order Time')  # Title of the bar chart"
   ]
  },
  {
   "cell_type": "code",
   "execution_count": 138,
   "metadata": {},
   "outputs": [],
   "source": [
    "# Save figure\n",
    "tod_price.figure.savefig(os.path.join(path, '04 Analysis','Visualizations', 'tod_price.png'))"
   ]
  },
  {
   "cell_type": "code",
   "execution_count": 139,
   "metadata": {
    "scrolled": true
   },
   "outputs": [
    {
     "data": {
      "text/plain": [
       "Text(0.5, 1.0, 'Trend of Product Price with Order Day')"
      ]
     },
     "execution_count": 139,
     "metadata": {},
     "output_type": "execute_result"
    },
    {
     "data": {
      "image/png": "[encoded data removed]",
      "text/plain": [
       "<Figure size 432x288 with 1 Axes>"
      ]
     },
     "metadata": {
      "needs_background": "light"
     },
     "output_type": "display_data"
    }
   ],
   "source": [
    "# Create line chart with random small sample data of the dataset\n",
    "\n",
    "dow_price = sns.lineplot(data = small, x = 'orders_day_of_week',y = 'prices',color = '#5f7b9f')\n",
    "\n",
    "plt.xlabel('Order Day of Week')  # Label for the x-axis\n",
    "plt.title('Trend of Product Price with Order Day')  # Title of the bar chart"
   ]
  },
  {
   "cell_type": "code",
   "execution_count": 140,
   "metadata": {},
   "outputs": [],
   "source": [
    "# Save figure\n",
    "dow_price.figure.savefig(os.path.join(path, '04 Analysis','Visualizations', 'dow_price.png'))"
   ]
  },
  {
   "cell_type": "markdown",
   "metadata": {},
   "source": [
    "###### 8.3 Product Price Range Insight"
   ]
  },
  {
   "cell_type": "code",
   "execution_count": 142,
   "metadata": {},
   "outputs": [
    {
     "data": {
      "text/plain": [
       "Mid-range product     21860860\n",
       "Low-range product     10126321\n",
       "High-range product      417678\n",
       "Name: price_range_loc, dtype: int64"
      ]
     },
     "execution_count": 142,
     "metadata": {},
     "output_type": "execute_result"
    }
   ],
   "source": [
    "# Price range order count\n",
    "df_all['price_range_loc'].value_counts(dropna= False)"
   ]
  },
  {
   "cell_type": "code",
   "execution_count": 143,
   "metadata": {},
   "outputs": [
    {
     "data": {
      "image/png": "[encoded data removed]",
      "text/plain": [
       "<Figure size 324x324 with 1 Axes>"
      ]
     },
     "metadata": {},
     "output_type": "display_data"
    }
   ],
   "source": [
    "# Data to plot \n",
    "labels = ['Mid-range', 'Low-range', 'High-range']\n",
    "sizes = [67, 31, 2]  # These values represent the percentages of each category\n",
    "colors = ['#4d84a8', '#15adbb', '#f88a10']\n",
    "\n",
    "\n",
    "# Plot \n",
    "plt.figure(figsize=(4.5, 4.5))  # Set the size of the plot\n",
    "plt.pie(sizes,  labels=labels, colors=colors, autopct='%1.1f%%',startangle=140  )\n",
    "plt.axis('equal')  # Equal aspect ratio ensures that pie is drawn as a circle.\n",
    "plt.title('Customer Order Price Range')  # Title of the bar chart\n",
    "\n",
    "# Save figure\n",
    "plt.savefig(os.path.join(path, '04 Analysis','Visualizations', 'price_range_product_order_count.png'))"
   ]
  },
  {
   "cell_type": "markdown",
   "metadata": {},
   "source": [
    "###### 8.4 Customers' Favorite Products and Departments"
   ]
  },
  {
   "cell_type": "code",
   "execution_count": 144,
   "metadata": {},
   "outputs": [
    {
     "data": {
      "text/plain": [
       "Text(0, 0.5, ' ')"
      ]
     },
     "execution_count": 144,
     "metadata": {},
     "output_type": "execute_result"
    },
    {
     "data": {
      "image/png": "[encoded data removed]",
      "text/plain": [
       "<Figure size 432x288 with 1 Axes>"
      ]
     },
     "metadata": {
      "needs_background": "light"
     },
     "output_type": "display_data"
    }
   ],
   "source": [
    "#Finding most popular products\n",
    "favor_prod=df_all['product_name'].value_counts(dropna=False).head(10).sort_values(ascending= True).plot.barh(color=['#394a5f'])\n",
    "\n",
    "plt.title('Top 10 Products for Ordering') # Chart title\n",
    "plt.xlabel('Order Count')  # Label for the x-axis\n",
    "plt.ylabel(' ')  # Label for the y-axis"
   ]
  },
  {
   "cell_type": "code",
   "execution_count": 145,
   "metadata": {},
   "outputs": [],
   "source": [
    "# Finding most popular products\n",
    "favor_dept=df_all['department_id'].value_counts(dropna=False).head(10)"
   ]
  },
  {
   "cell_type": "code",
   "execution_count": 146,
   "metadata": {},
   "outputs": [
    {
     "data": {
      "text/plain": [
       "Text(0, 0.5, 'Department ID')"
      ]
     },
     "execution_count": 146,
     "metadata": {},
     "output_type": "execute_result"
    },
    {
     "data": {
      "image/png": "[encoded data removed]",
      "text/plain": [
       "<Figure size 576x432 with 1 Axes>"
      ]
     },
     "metadata": {
      "needs_background": "light"
     },
     "output_type": "display_data"
    }
   ],
   "source": [
    "# Setting figure size\n",
    "plt.figure(figsize=(8, 6))\n",
    "\n",
    "#Finding most popular department\n",
    "favor_dept=df_all['department_id'].value_counts(dropna=False).sort_values(ascending= True).plot.barh(color=['#394a5f'])\n",
    "\n",
    "plt.title('Popular Goods Department') # Chart title\n",
    "plt.xlabel('Order Count')  # Label for the x-axis\n",
    "plt.ylabel('Department ID')  # Label for the y-axis"
   ]
  },
  {
   "cell_type": "code",
   "execution_count": 147,
   "metadata": {},
   "outputs": [],
   "source": [
    "favor_dept.figure.savefig(os.path.join(path, '04 Analysis','Visualizations', 'department.png'))"
   ]
  },
  {
   "cell_type": "markdown",
   "metadata": {},
   "source": [
    "###### 8.5 Ordering Habbits Analysis"
   ]
  },
  {
   "cell_type": "markdown",
   "metadata": {},
   "source": [
    "8.5.1.Brand loyalty Ditribution"
   ]
  },
  {
   "cell_type": "code",
   "execution_count": 148,
   "metadata": {
    "scrolled": true
   },
   "outputs": [
    {
     "data": {
      "image/png": "[encoded data removed]",
      "text/plain": [
       "<Figure size 432x288 with 1 Axes>"
      ]
     },
     "metadata": {
      "needs_background": "light"
     },
     "output_type": "display_data"
    }
   ],
   "source": [
    "# Create bar chart for brand loyalty user count\n",
    "df_all['loyalty_flag'].value_counts().plot.bar(color =['#394a5f', '#5f7b9f', '#9fb0c5'])\n",
    "\n",
    "plt.xticks(rotation=0) # x-axis lable angle\n",
    "plt.title('Brand Loyalty User Distribution') # Chart title\n",
    "plt.ylabel('User Count by million')  # Label for the y-axis\n",
    "plt.xlabel(' ') # Label for the x-axis\n",
    "\n",
    "plt.savefig(os.path.join(path, '04 Analysis','Visualizations', 'loyalty_user.png')) # Save figure"
   ]
  },
  {
   "cell_type": "markdown",
   "metadata": {},
   "source": [
    "8.5.2. Ordering habbits base on loyalty status"
   ]
  },
  {
   "cell_type": "markdown",
   "metadata": {},
   "source": [
    "Spending habbits by loyalty status"
   ]
  },
  {
   "cell_type": "code",
   "execution_count": 149,
   "metadata": {},
   "outputs": [
    {
     "data": {
      "image/png": "[encoded data removed]",
      "text/plain": [
       "<Figure size 432x288 with 1 Axes>"
      ]
     },
     "metadata": {
      "needs_background": "light"
     },
     "output_type": "display_data"
    }
   ],
   "source": [
    "# Group spending flag by loyalty flag\n",
    "grouped_counts = df_all.groupby(['loyalty_flag', 'spending_flag']).size().unstack()\n",
    "\n",
    "# Plot the bar plot with color coding\n",
    "grouped_counts.plot(kind='bar', color=['#d35b4d','#5f7b9f'])\n",
    "\n",
    "# Add labels and title\n",
    "plt.legend(title=None)\n",
    "plt.xlabel(' ')\n",
    "plt.ylabel('User Count by million')\n",
    "plt.title('Spending Habbits by Brand Loyalty')\n",
    "plt.xticks(rotation=0)\n",
    "\n",
    "plt.savefig(os.path.join(path, '04 Analysis','Visualizations', 'loyalty_spending.png')) # Save figure"
   ]
  },
  {
   "cell_type": "markdown",
   "metadata": {},
   "source": [
    "Order frequency by loyalty status"
   ]
  },
  {
   "cell_type": "code",
   "execution_count": 150,
   "metadata": {},
   "outputs": [
    {
     "data": {
      "image/png": "[encoded data removed]",
      "text/plain": [
       "<Figure size 432x288 with 1 Axes>"
      ]
     },
     "metadata": {
      "needs_background": "light"
     },
     "output_type": "display_data"
    }
   ],
   "source": [
    "# Group frequency flag by loyalty flag\n",
    "grouped_counts = df_all.groupby(['loyalty_flag', 'order_frequency']).size().unstack()\n",
    "\n",
    "# Plot the bar plot with color coding\n",
    "grouped_counts.plot(kind='bar', color=['#4d84a8', '#15adbb', '#f88a10','#df5d5c'])\n",
    "\n",
    "# Add labels and title\n",
    "plt.legend(title=None)\n",
    "plt.xlabel(' ')\n",
    "plt.ylabel('User Count by million')\n",
    "plt.title('Order Frequency by Brand Loyalty')\n",
    "plt.xticks(rotation=0)\n",
    "\n",
    "plt.savefig(os.path.join(path, '04 Analysis','Visualizations', 'loyalty_freqt.png')) # Save figure"
   ]
  },
  {
   "cell_type": "markdown",
   "metadata": {},
   "source": [
    "Customer activity by loyalty status"
   ]
  },
  {
   "cell_type": "code",
   "execution_count": 151,
   "metadata": {},
   "outputs": [
    {
     "data": {
      "image/png": "[encoded data removed]",
      "text/plain": [
       "<Figure size 432x288 with 1 Axes>"
      ]
     },
     "metadata": {
      "needs_background": "light"
     },
     "output_type": "display_data"
    }
   ],
   "source": [
    "# Group customer activity by loyalty flag\n",
    "grouped_counts = df_all.groupby(['loyalty_flag', 'customer_activity']).size().unstack()\n",
    "\n",
    "# Plot the bar plot with color coding\n",
    "grouped_counts.plot(kind='bar', color=['#d35b4d','#5f7b9f'])\n",
    "\n",
    "# Add labels and title\n",
    "plt.legend(title=None)\n",
    "plt.xlabel(' ')\n",
    "plt.ylabel('User Count by million')\n",
    "plt.title('Customer Activity by Loyalty Status')\n",
    "plt.xticks(rotation=0)\n",
    "\n",
    "plt.savefig(os.path.join(path, '04 Analysis','Visualizations', 'loyalty_act.png')) # Save figure"
   ]
  },
  {
   "cell_type": "markdown",
   "metadata": {},
   "source": [
    "8.5.3. Ordering habbits base on customer regions"
   ]
  },
  {
   "cell_type": "code",
   "execution_count": 153,
   "metadata": {},
   "outputs": [],
   "source": [
    "# Create a subset to analyze customer ordering habbits.\n",
    "user_ord_hab = df_all[['user_id','region','Age','income','product_name','department_id','family_status','loyalty_flag','order_frequency','price_range_loc','spending_flag','customer_activity','customer_profile']]"
   ]
  },
  {
   "cell_type": "markdown",
   "metadata": {},
   "source": [
    "Brand loyalty by region"
   ]
  },
  {
   "cell_type": "code",
   "execution_count": 154,
   "metadata": {},
   "outputs": [
    {
     "data": {
      "image/png": "[encoded data removed]",
      "text/plain": [
       "<Figure size 432x288 with 1 Axes>"
      ]
     },
     "metadata": {
      "needs_background": "light"
     },
     "output_type": "display_data"
    }
   ],
   "source": [
    "# Group loyalty flag by region\n",
    "grouped_counts = user_ord_hab.groupby(['region', 'loyalty_flag']).size().unstack()\n",
    "\n",
    "# Plot the bar plot with color coding\n",
    "grouped_counts.plot(kind='bar', color=['#4d84a8', '#15adbb', '#f88a10','#df5d5c'])\n",
    "\n",
    "# Add labels and title\n",
    "plt.legend(title=None)\n",
    "plt.xlabel(' ')\n",
    "plt.ylabel('User Count by million')\n",
    "plt.title('Brand Loyalty by Region')\n",
    "plt.xticks(rotation=0)\n",
    "\n",
    "plt.savefig(os.path.join(path, '04 Analysis','Visualizations', 'region_loy.png')) # Save figure"
   ]
  },
  {
   "cell_type": "markdown",
   "metadata": {},
   "source": [
    "Spending habbits by region"
   ]
  },
  {
   "cell_type": "code",
   "execution_count": 155,
   "metadata": {},
   "outputs": [
    {
     "data": {
      "image/png": "[encoded data removed]",
      "text/plain": [
       "<Figure size 432x288 with 1 Axes>"
      ]
     },
     "metadata": {
      "needs_background": "light"
     },
     "output_type": "display_data"
    }
   ],
   "source": [
    "# Group spending flag by region\n",
    "grouped_counts = user_ord_hab.groupby(['region', 'spending_flag']).size().unstack()\n",
    "\n",
    "# Plot the bar plot with color coding\n",
    "grouped_counts.plot(kind='bar', color=['#d35b4d','#5f7b9f'])\n",
    "\n",
    "# Add labels and title\n",
    "plt.legend(title=None)\n",
    "plt.xlabel(' ')\n",
    "plt.ylabel('User Count by million')\n",
    "plt.title('Spending Habbits by Region')\n",
    "plt.xticks(rotation=0)\n",
    "\n",
    "plt.savefig(os.path.join(path, '04 Analysis','Visualizations', 'region_spd.png')) # Save figure"
   ]
  },
  {
   "cell_type": "markdown",
   "metadata": {},
   "source": [
    "Order frequency by region"
   ]
  },
  {
   "cell_type": "code",
   "execution_count": 157,
   "metadata": {},
   "outputs": [
    {
     "data": {
      "image/png": "[encoded data removed]",
      "text/plain": [
       "<Figure size 432x288 with 1 Axes>"
      ]
     },
     "metadata": {
      "needs_background": "light"
     },
     "output_type": "display_data"
    }
   ],
   "source": [
    "# Group order frequncy by region\n",
    "grouped_counts = user_ord_hab.groupby(['region', 'order_frequency']).size().unstack()\n",
    "\n",
    "# Plot the bar plot with color coding\n",
    "grouped_counts.plot(kind='bar', color=['#4d84a8', '#15adbb', '#f88a10','#df5d5c'])\n",
    "\n",
    "# Add labels and title\n",
    "plt.legend(title=None)\n",
    "plt.xlabel(' ')\n",
    "plt.ylabel('User Count by million')\n",
    "plt.title('Order Frequency by Region')\n",
    "plt.xticks(rotation=0)\n",
    "\n",
    "plt.savefig(os.path.join(path, '04 Analysis','Visualizations', 'region_frqt.png')) # Save figure"
   ]
  },
  {
   "cell_type": "markdown",
   "metadata": {},
   "source": [
    "8.5.4. Ordering habbits base on age and family status"
   ]
  },
  {
   "cell_type": "code",
   "execution_count": 158,
   "metadata": {},
   "outputs": [
    {
     "name": "stderr",
     "output_type": "stream",
     "text": [
      "C:\\Users\\Shruti Kolhatkar\\anaconda3\\lib\\site-packages\\pandas\\core\\indexing.py:844: SettingWithCopyWarning: \n",
      "A value is trying to be set on a copy of a slice from a DataFrame.\n",
      "Try using .loc[row_indexer,col_indexer] = value instead\n",
      "\n",
      "See the caveats in the documentation: https://pandas.pydata.org/pandas-docs/stable/user_guide/indexing.html#returning-a-view-versus-a-copy\n",
      "  self.obj[key] = _infer_fill_value(value)\n",
      "C:\\Users\\Shruti Kolhatkar\\anaconda3\\lib\\site-packages\\pandas\\core\\indexing.py:965: SettingWithCopyWarning: \n",
      "A value is trying to be set on a copy of a slice from a DataFrame.\n",
      "Try using .loc[row_indexer,col_indexer] = value instead\n",
      "\n",
      "See the caveats in the documentation: https://pandas.pydata.org/pandas-docs/stable/user_guide/indexing.html#returning-a-view-versus-a-copy\n",
      "  self.obj[item] = s\n"
     ]
    }
   ],
   "source": [
    "# Define age groups\n",
    "user_ord_hab.loc[(user_ord_hab['Age'] >= 18) & (user_ord_hab['Age'] <= 40) ,'age_profile'] = 'young adult'\n",
    "user_ord_hab.loc[(user_ord_hab['Age'] > 40) & (user_ord_hab['Age'] <= 60) ,'age_profile'] = 'mid-age'\n",
    "user_ord_hab.loc[(user_ord_hab['Age'] > 60) & (user_ord_hab['Age'] <= 81) ,'age_profile'] = 'senior'"
   ]
  },
  {
   "cell_type": "code",
   "execution_count": 159,
   "metadata": {},
   "outputs": [
    {
     "data": {
      "image/png": "[encoded data removed]",
      "text/plain": [
       "<Figure size 432x288 with 1 Axes>"
      ]
     },
     "metadata": {
      "needs_background": "light"
     },
     "output_type": "display_data"
    }
   ],
   "source": [
    "# Brand Loyalty by age groups\n",
    "\n",
    "grouped_counts = user_ord_hab.groupby(['age_profile', 'loyalty_flag']).size().unstack()\n",
    "\n",
    "# Plot the bar plot with color coding\n",
    "grouped_counts.plot(kind='bar', color=['#4d84a8', '#15adbb', '#f88a10','#df5d5c'])\n",
    "\n",
    "# Add labels and title\n",
    "plt.legend(title=None)\n",
    "plt.xlabel(' ')\n",
    "plt.ylabel('User Count')\n",
    "plt.title('Brand Loyalty by Age Groups')\n",
    "plt.xticks(rotation=0)\n",
    "\n",
    "plt.savefig(os.path.join(path, '04 Analysis','Visualizations', 'age_loyal.png')) # Save figure"
   ]
  },
  {
   "cell_type": "code",
   "execution_count": 160,
   "metadata": {},
   "outputs": [
    {
     "data": {
      "image/png": "[encoded data removed]",
      "text/plain": [
       "<Figure size 432x288 with 1 Axes>"
      ]
     },
     "metadata": {
      "needs_background": "light"
     },
     "output_type": "display_data"
    }
   ],
   "source": [
    "# Spending habit by age groups\n",
    "\n",
    "grouped_counts = user_ord_hab.groupby(['age_profile', 'spending_flag']).size().unstack()\n",
    "\n",
    "# Plot the bar plot with color coding\n",
    "grouped_counts.plot(kind='bar', color=['#4d84a8', '#f88a10'])\n",
    "\n",
    "# Add labels and title\n",
    "plt.legend(title=None)\n",
    "plt.xlabel(' ')\n",
    "plt.ylabel('User Count')\n",
    "plt.title('Spending Habbits by Age Groups')\n",
    "plt.xticks(rotation=0)\n",
    "\n",
    "plt.savefig(os.path.join(path, '04 Analysis','Visualizations', 'age_sped.png')) # Save figure"
   ]
  },
  {
   "cell_type": "code",
   "execution_count": 162,
   "metadata": {},
   "outputs": [
    {
     "data": {
      "image/png": "[encoded data removed]",
      "text/plain": [
       "<Figure size 432x288 with 1 Axes>"
      ]
     },
     "metadata": {
      "needs_background": "light"
     },
     "output_type": "display_data"
    }
   ],
   "source": [
    "# Order frequency by age groups\n",
    "\n",
    "grouped_counts = user_ord_hab.groupby(['age_profile', 'order_frequency']).size().unstack()\n",
    "\n",
    "# Plot the bar plot with color coding\n",
    "grouped_counts.plot(kind='bar', color=['#df5d5c','#4d84a8', '#f88a10'])\n",
    "\n",
    "# Add labels and title\n",
    "plt.legend(title=None)\n",
    "plt.xlabel(' ')\n",
    "plt.ylabel('User Count')\n",
    "plt.title('Order Frequency by Age Groups')\n",
    "plt.xticks(rotation=0)\n",
    "\n",
    "plt.savefig(os.path.join(path, '04 Analysis','Visualizations', 'age_freq.png')) # Save figure"
   ]
  },
  {
   "cell_type": "code",
   "execution_count": 163,
   "metadata": {},
   "outputs": [
    {
     "data": {
      "image/png": "[encoded data removed]",
      "text/plain": [
       "<Figure size 432x288 with 1 Axes>"
      ]
     },
     "metadata": {
      "needs_background": "light"
     },
     "output_type": "display_data"
    }
   ],
   "source": [
    "# Brand loyalty by famiy status\n",
    "\n",
    "grouped_counts = user_ord_hab.groupby(['family_status', 'loyalty_flag']).size().unstack()\n",
    "\n",
    "# Plot the bar plot with color coding\n",
    "grouped_counts.plot(kind='bar', color=['#4d84a8', '#15adbb', '#f88a10'])\n",
    "\n",
    "# Add labels and title\n",
    "plt.legend(title=None)\n",
    "plt.xlabel(' ')\n",
    "plt.ylabel('User Count')\n",
    "plt.title('Brand Loyalty by Family Status')\n",
    "plt.xticks(rotation=10)\n",
    "\n",
    "plt.savefig(os.path.join(path, '04 Analysis','Visualizations', 'fam_loyal.png')) # Save figure"
   ]
  },
  {
   "cell_type": "code",
   "execution_count": 164,
   "metadata": {},
   "outputs": [
    {
     "data": {
      "image/png": "[encoded data removed]",
      "text/plain": [
       "<Figure size 432x288 with 1 Axes>"
      ]
     },
     "metadata": {
      "needs_background": "light"
     },
     "output_type": "display_data"
    }
   ],
   "source": [
    "# Spending habbits by famiy status\n",
    "\n",
    "grouped_counts = user_ord_hab.groupby(['family_status', 'spending_flag']).size().unstack()\n",
    "\n",
    "# Plot the bar plot with color coding\n",
    "grouped_counts.plot(kind='bar', color=['#df5d5c','#4d84a8', '#f88a10'])\n",
    "\n",
    "# Add labels and title\n",
    "plt.legend(title=None)\n",
    "plt.xlabel(' ')\n",
    "plt.ylabel('User Count')\n",
    "plt.title('Spending Habbits by Family Status')\n",
    "plt.xticks(rotation=10)\n",
    "\n",
    "plt.savefig(os.path.join(path, '04 Analysis','Visualizations', 'fam_sped.png')) # Save figure"
   ]
  },
  {
   "cell_type": "code",
   "execution_count": 166,
   "metadata": {},
   "outputs": [
    {
     "data": {
      "image/png": "[encoded data removed]",
      "text/plain": [
       "<Figure size 432x288 with 1 Axes>"
      ]
     },
     "metadata": {
      "needs_background": "light"
     },
     "output_type": "display_data"
    }
   ],
   "source": [
    "# Order frequency by famiy status\n",
    "\n",
    "grouped_counts = user_ord_hab.groupby(['family_status', 'order_frequency']).size().unstack()\n",
    "\n",
    "# Plot the bar plot with color coding\n",
    "grouped_counts.plot(kind='bar', color=['#4d84a8', '#15adbb', '#f88a10'])\n",
    "\n",
    "# Add labels and title\n",
    "plt.legend(title=None)\n",
    "plt.xlabel(' ')\n",
    "plt.ylabel('User Count')\n",
    "plt.title('Order Frequency by Family Status')\n",
    "plt.xticks(rotation=10)\n",
    "\n",
    "plt.savefig(os.path.join(path, '04 Analysis','Visualizations', 'family_freq.png')) # Save figure"
   ]
  },
  {
   "cell_type": "markdown",
   "metadata": {},
   "source": [
    "8.5.5. Ordering habbits base on demographic infomation"
   ]
  },
  {
   "cell_type": "code",
   "execution_count": 167,
   "metadata": {},
   "outputs": [],
   "source": [
    "# Define income groups\n",
    "user_ord_hab.loc[(user_ord_hab['income'] < 62636) ,'income_profile'] = 'low-income'\n",
    "user_ord_hab.loc[(user_ord_hab['income'] >=62636) & (user_ord_hab['income'] < 95450) ,'income_profile'] = 'lower-middle-class'\n",
    "user_ord_hab.loc[(user_ord_hab['income'] >= 95450) & (user_ord_hab['income'] < 133392) ,'income_profile'] = 'upper-middle-class'\n",
    "user_ord_hab.loc[(user_ord_hab['income'] >= 133392) ,'income_profile'] = 'upper-class'"
   ]
  },
  {
   "cell_type": "code",
   "execution_count": 168,
   "metadata": {},
   "outputs": [
    {
     "data": {
      "image/png": "[encoded data removed]",
      "text/plain": [
       "<Figure size 432x288 with 1 Axes>"
      ]
     },
     "metadata": {
      "needs_background": "light"
     },
     "output_type": "display_data"
    }
   ],
   "source": [
    "# Brand loyalty by income profile\n",
    "\n",
    "grouped_counts = user_ord_hab.groupby(['income_profile', 'loyalty_flag']).size().unstack()\n",
    "\n",
    "# Plot the bar plot with color coding\n",
    "grouped_counts.plot(kind='bar', color=['#4d84a8', '#15adbb', '#f88a10'])\n",
    "\n",
    "# Add labels and title\n",
    "plt.legend(title=None)\n",
    "plt.xlabel(' ')\n",
    "plt.ylabel('User Count')\n",
    "plt.title('Brand Loyalty by Income')\n",
    "plt.xticks(rotation=0)\n",
    "\n",
    "plt.savefig(os.path.join(path, '04 Analysis','Visualizations', 'in_loyal.png')) # Save figure"
   ]
  },
  {
   "cell_type": "code",
   "execution_count": 169,
   "metadata": {},
   "outputs": [
    {
     "data": {
      "image/png": "[encoded data removed]",
      "text/plain": [
       "<Figure size 432x288 with 1 Axes>"
      ]
     },
     "metadata": {
      "needs_background": "light"
     },
     "output_type": "display_data"
    }
   ],
   "source": [
    "# Spending habbits by income profile\n",
    "\n",
    "grouped_counts = user_ord_hab.groupby(['income_profile', 'spending_flag']).size().unstack()\n",
    "\n",
    "# Plot the bar plot with color coding\n",
    "grouped_counts.plot(kind='bar', color=['#4d84a8',  '#f88a10'])\n",
    "\n",
    "# Add labels and title\n",
    "plt.legend(title=None)\n",
    "plt.xlabel(' ')\n",
    "plt.ylabel('User Count')\n",
    "plt.title('Spending Habbits by Income')\n",
    "plt.xticks(rotation=0)\n",
    "\n",
    "plt.savefig(os.path.join(path, '04 Analysis','Visualizations', 'in_sped.png')) # Save figure"
   ]
  },
  {
   "cell_type": "code",
   "execution_count": 171,
   "metadata": {},
   "outputs": [
    {
     "data": {
      "image/png": "[encoded data removed]",
      "text/plain": [
       "<Figure size 432x288 with 1 Axes>"
      ]
     },
     "metadata": {
      "needs_background": "light"
     },
     "output_type": "display_data"
    }
   ],
   "source": [
    "# Order frequency by income profile\n",
    "\n",
    "grouped_counts = user_ord_hab.groupby(['income_profile', 'order_frequency']).size().unstack()\n",
    "\n",
    "# Plot the bar plot with color coding\n",
    "grouped_counts.plot(kind='bar', color=['#4d84a8', '#15adbb', '#f88a10'])\n",
    "\n",
    "# Add labels and title\n",
    "plt.legend(title=None)\n",
    "plt.xlabel(' ')\n",
    "plt.ylabel('User Count')\n",
    "plt.title('Order Frequency by Income')\n",
    "plt.xticks(rotation=0)\n",
    "\n",
    "plt.savefig(os.path.join(path, '04 Analysis','Visualizations', 'in_freq.png')) # Save figure"
   ]
  },
  {
   "cell_type": "markdown",
   "metadata": {},
   "source": [
    "###### According to data above, the target segment is define as married, middle class young adult."
   ]
  },
  {
   "cell_type": "code",
   "execution_count": 172,
   "metadata": {},
   "outputs": [],
   "source": [
    "# Define target segment \n",
    "Target_segment = user_ord_hab.loc[\n",
    "    (user_ord_hab['age_profile'] == 'young adult') & \n",
    "    ((user_ord_hab['income_profile'] == 'upper-middle-class') | (user_ord_hab['income_profile'] == 'lower-middle-class')) & \n",
    "    (user_ord_hab['family_status'] == 'married')\n",
    "]"
   ]
  },
  {
   "cell_type": "code",
   "execution_count": 173,
   "metadata": {},
   "outputs": [
    {
     "data": {
      "image/png": "[encoded data removed]",
      "text/plain": [
       "<Figure size 432x288 with 1 Axes>"
      ]
     },
     "metadata": {
      "needs_background": "light"
     },
     "output_type": "display_data"
    }
   ],
   "source": [
    "# The popular departments for the target segment\n",
    "Target_segment['department_id'].value_counts().sort_values(ascending= False ).head(5).plot(kind='bar', color=['#403990', '#80a6e2', '#fbdd85','#f46f43','#cf3d3e'])\n",
    "plt.xticks(rotation=0)\n",
    "\n",
    "\n",
    "# Add labels and title\n",
    "plt.xlabel('Department ID ')\n",
    "plt.title('Favorite Departments for Target Segment')\n",
    "plt.xticks(rotation=0)\n",
    "\n",
    "plt.savefig(os.path.join(path, '04 Analysis','Visualizations', 'faovr_dept_target.png')) # Save figure"
   ]
  },
  {
   "cell_type": "markdown",
   "metadata": {},
   "source": [
    "###### Department 4 and 16 have the most order by target segment. Department 4 is produce and department 16 is dairy eggs."
   ]
  },
  {
   "cell_type": "markdown",
   "metadata": {},
   "source": [
    "8.5.6. Ordering habbits base on customer profile"
   ]
  },
  {
   "cell_type": "markdown",
   "metadata": {},
   "source": [
    "The price of order"
   ]
  },
  {
   "cell_type": "code",
   "execution_count": 174,
   "metadata": {},
   "outputs": [
    {
     "data": {
      "image/png": "[encoded data removed]",
      "text/plain": [
       "<Figure size 432x288 with 1 Axes>"
      ]
     },
     "metadata": {
      "needs_background": "light"
     },
     "output_type": "display_data"
    }
   ],
   "source": [
    "# Group price range order by customer profile\n",
    "grouped_counts = user_ord_hab.groupby(['customer_profile', 'price_range_loc']).size().unstack().sort_values(by= 'High-range product', ascending = False)\n",
    "\n",
    "# Plot in to chart\n",
    "grouped_counts.plot(kind='barh', color = ['#4d84a8','#15adbb','#f88a10'])\n",
    "\n",
    "# Add labels and title\n",
    "plt.ylabel(' ')\n",
    "plt.title('Price Range by Customer Profile')\n",
    "plt.legend(title =None)\n",
    "\n",
    "\n",
    "plt.savefig(os.path.join(path, '04 Analysis','Visualizations', 'price_cus_pro.png')) # Save figure"
   ]
  },
  {
   "cell_type": "markdown",
   "metadata": {},
   "source": [
    "The frequency of order"
   ]
  },
  {
   "cell_type": "code",
   "execution_count": 175,
   "metadata": {},
   "outputs": [
    {
     "data": {
      "image/png": "[encoded data removed]",
      "text/plain": [
       "<Figure size 432x288 with 1 Axes>"
      ]
     },
     "metadata": {
      "needs_background": "light"
     },
     "output_type": "display_data"
    }
   ],
   "source": [
    "# Group price range order by customer profile\n",
    "grouped_counts = user_ord_hab.groupby(['customer_profile', 'order_frequency']).size().unstack() \n",
    "\n",
    "# Plot in to chart\n",
    "grouped_counts.plot(kind='barh', color = ['#4d84a8','#15adbb','#f88a10'])\n",
    "\n",
    "# Add labels and title\n",
    "plt.ylabel(' ')\n",
    "plt.title('Order Freqency by Customer Profile')\n",
    "plt.legend(title =None)\n",
    "\n",
    "\n",
    "plt.savefig(os.path.join(path, '04 Analysis','Visualizations', 'freqt_cus_pro.png')) # Save figure"
   ]
  },
  {
   "cell_type": "markdown",
   "metadata": {},
   "source": [
    "The product order base on customer profile"
   ]
  },
  {
   "cell_type": "code",
   "execution_count": 176,
   "metadata": {},
   "outputs": [
    {
     "data": {
      "image/png": "[encoded data removed]",
      "text/plain": [
       "<Figure size 432x288 with 1 Axes>"
      ]
     },
     "metadata": {
      "needs_background": "light"
     },
     "output_type": "display_data"
    }
   ],
   "source": [
    "# Group customer profile by department id\n",
    "grouped_counts = user_ord_hab.groupby(['department_id', 'customer_profile']).size().unstack() \n",
    "\n",
    "# Plot in to chart\n",
    "grouped_counts.plot(kind='bar')\n",
    "\n",
    "# Add label and title\n",
    "plt.legend(title=None, bbox_to_anchor=(1.05, 1), loc='upper left')\n",
    "plt.xticks(rotation=0)\n",
    "plt.xlabel('Department ID')\n",
    "plt.title('Popular Department by Customer Profile')\n",
    "\n",
    "plt.savefig(os.path.join(path, '04 Analysis','Visualizations', 'prod_cust.png')) # Save figure"
   ]
  },
  {
   "cell_type": "code",
   "execution_count": null,
   "metadata": {},
   "outputs": [],
   "source": []
  }
 ],
 "metadata": {
  "kernelspec": {
   "display_name": "Python 3",
   "language": "python",
   "name": "python3"
  },
  "language_info": {
   "codemirror_mode": {
    "name": "ipython",
    "version": 3
   },
   "file_extension": ".py",
   "mimetype": "text/x-python",
   "name": "python",
   "nbconvert_exporter": "python",
   "pygments_lexer": "ipython3",
   "version": "3.7.6"
  }
 },
 "nbformat": 4,
 "nbformat_minor": 5
}
